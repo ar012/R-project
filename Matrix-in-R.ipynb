{
 "cells": [
  {
   "cell_type": "markdown",
   "metadata": {},
   "source": [
    "# Matrix in R"
   ]
  },
  {
   "cell_type": "code",
   "execution_count": 25,
   "metadata": {},
   "outputs": [],
   "source": [
    "# 1) Using Dimension"
   ]
  },
  {
   "cell_type": "code",
   "execution_count": 3,
   "metadata": {},
   "outputs": [
    {
     "data": {
      "text/html": [
       "<ol class=list-inline>\n",
       "\t<li>1</li>\n",
       "\t<li>2</li>\n",
       "\t<li>3</li>\n",
       "\t<li>4</li>\n",
       "\t<li>5</li>\n",
       "\t<li>6</li>\n",
       "\t<li>7</li>\n",
       "\t<li>8</li>\n",
       "\t<li>9</li>\n",
       "\t<li>10</li>\n",
       "\t<li>11</li>\n",
       "\t<li>12</li>\n",
       "</ol>\n"
      ],
      "text/latex": [
       "\\begin{enumerate*}\n",
       "\\item 1\n",
       "\\item 2\n",
       "\\item 3\n",
       "\\item 4\n",
       "\\item 5\n",
       "\\item 6\n",
       "\\item 7\n",
       "\\item 8\n",
       "\\item 9\n",
       "\\item 10\n",
       "\\item 11\n",
       "\\item 12\n",
       "\\end{enumerate*}\n"
      ],
      "text/markdown": [
       "1. 1\n",
       "2. 2\n",
       "3. 3\n",
       "4. 4\n",
       "5. 5\n",
       "6. 6\n",
       "7. 7\n",
       "8. 8\n",
       "9. 9\n",
       "10. 10\n",
       "11. 11\n",
       "12. 12\n",
       "\n",
       "\n"
      ],
      "text/plain": [
       " [1]  1  2  3  4  5  6  7  8  9 10 11 12"
      ]
     },
     "metadata": {},
     "output_type": "display_data"
    }
   ],
   "source": [
    "x <- 1:12\n",
    "x"
   ]
  },
  {
   "cell_type": "code",
   "execution_count": 4,
   "metadata": {},
   "outputs": [
    {
     "data": {
      "text/html": [
       "<table>\n",
       "<tbody>\n",
       "\t<tr><td>1 </td><td>4 </td><td>7 </td><td>10</td></tr>\n",
       "\t<tr><td>2 </td><td>5 </td><td>8 </td><td>11</td></tr>\n",
       "\t<tr><td>3 </td><td>6 </td><td>9 </td><td>12</td></tr>\n",
       "</tbody>\n",
       "</table>\n"
      ],
      "text/latex": [
       "\\begin{tabular}{llll}\n",
       "\t 1  & 4  & 7  & 10\\\\\n",
       "\t 2  & 5  & 8  & 11\\\\\n",
       "\t 3  & 6  & 9  & 12\\\\\n",
       "\\end{tabular}\n"
      ],
      "text/markdown": [
       "\n",
       "| 1  | 4  | 7  | 10 | \n",
       "| 2  | 5  | 8  | 11 | \n",
       "| 3  | 6  | 9  | 12 | \n",
       "\n",
       "\n"
      ],
      "text/plain": [
       "     [,1] [,2] [,3] [,4]\n",
       "[1,] 1    4    7    10  \n",
       "[2,] 2    5    8    11  \n",
       "[3,] 3    6    9    12  "
      ]
     },
     "metadata": {},
     "output_type": "display_data"
    }
   ],
   "source": [
    "dim(x) <- c(3, 4)\n",
    "x"
   ]
  },
  {
   "cell_type": "code",
   "execution_count": 6,
   "metadata": {},
   "outputs": [
    {
     "data": {
      "text/html": [
       "<table>\n",
       "<tbody>\n",
       "\t<tr><td>1 </td><td>4 </td><td>7 </td><td>10</td></tr>\n",
       "\t<tr><td>2 </td><td>5 </td><td>8 </td><td>11</td></tr>\n",
       "\t<tr><td>3 </td><td>6 </td><td>9 </td><td>12</td></tr>\n",
       "</tbody>\n",
       "</table>\n"
      ],
      "text/latex": [
       "\\begin{tabular}{llll}\n",
       "\t 1  & 4  & 7  & 10\\\\\n",
       "\t 2  & 5  & 8  & 11\\\\\n",
       "\t 3  & 6  & 9  & 12\\\\\n",
       "\\end{tabular}\n"
      ],
      "text/markdown": [
       "\n",
       "| 1  | 4  | 7  | 10 | \n",
       "| 2  | 5  | 8  | 11 | \n",
       "| 3  | 6  | 9  | 12 | \n",
       "\n",
       "\n"
      ],
      "text/plain": [
       "     [,1] [,2] [,3] [,4]\n",
       "[1,] 1    4    7    10  \n",
       "[2,] 2    5    8    11  \n",
       "[3,] 3    6    9    12  "
      ]
     },
     "metadata": {},
     "output_type": "display_data"
    }
   ],
   "source": [
    "A <- array(1:12, dim=c(3, 4))\n",
    "A"
   ]
  },
  {
   "cell_type": "code",
   "execution_count": 7,
   "metadata": {},
   "outputs": [
    {
     "data": {
      "text/html": [
       "<table>\n",
       "<tbody>\n",
       "\t<tr><td>1 </td><td>4 </td><td>7 </td><td>10</td></tr>\n",
       "\t<tr><td>2 </td><td>5 </td><td>8 </td><td>11</td></tr>\n",
       "\t<tr><td>3 </td><td>6 </td><td>9 </td><td>12</td></tr>\n",
       "</tbody>\n",
       "</table>\n"
      ],
      "text/latex": [
       "\\begin{tabular}{llll}\n",
       "\t 1  & 4  & 7  & 10\\\\\n",
       "\t 2  & 5  & 8  & 11\\\\\n",
       "\t 3  & 6  & 9  & 12\\\\\n",
       "\\end{tabular}\n"
      ],
      "text/markdown": [
       "\n",
       "| 1  | 4  | 7  | 10 | \n",
       "| 2  | 5  | 8  | 11 | \n",
       "| 3  | 6  | 9  | 12 | \n",
       "\n",
       "\n"
      ],
      "text/plain": [
       "     [,1] [,2] [,3] [,4]\n",
       "[1,] 1    4    7    10  \n",
       "[2,] 2    5    8    11  \n",
       "[3,] 3    6    9    12  "
      ]
     },
     "metadata": {},
     "output_type": "display_data"
    }
   ],
   "source": [
    "# 2) Using Matrix function\n",
    "y <- matrix(1:12, nrow = 3, ncol = 4)\n",
    "y"
   ]
  },
  {
   "cell_type": "code",
   "execution_count": 8,
   "metadata": {},
   "outputs": [
    {
     "data": {
      "text/html": [
       "<table>\n",
       "<tbody>\n",
       "\t<tr><td>1 </td><td>4 </td><td>7 </td><td>10</td></tr>\n",
       "\t<tr><td>2 </td><td>5 </td><td>8 </td><td>11</td></tr>\n",
       "\t<tr><td>3 </td><td>6 </td><td>9 </td><td>12</td></tr>\n",
       "</tbody>\n",
       "</table>\n"
      ],
      "text/latex": [
       "\\begin{tabular}{llll}\n",
       "\t 1  & 4  & 7  & 10\\\\\n",
       "\t 2  & 5  & 8  & 11\\\\\n",
       "\t 3  & 6  & 9  & 12\\\\\n",
       "\\end{tabular}\n"
      ],
      "text/markdown": [
       "\n",
       "| 1  | 4  | 7  | 10 | \n",
       "| 2  | 5  | 8  | 11 | \n",
       "| 3  | 6  | 9  | 12 | \n",
       "\n",
       "\n"
      ],
      "text/plain": [
       "     [,1] [,2] [,3] [,4]\n",
       "[1,] 1    4    7    10  \n",
       "[2,] 2    5    8    11  \n",
       "[3,] 3    6    9    12  "
      ]
     },
     "metadata": {},
     "output_type": "display_data"
    }
   ],
   "source": [
    "y <- matrix(1:12, 3, 4)\n",
    "y"
   ]
  },
  {
   "cell_type": "code",
   "execution_count": 13,
   "metadata": {},
   "outputs": [
    {
     "data": {
      "text/html": [
       "<table>\n",
       "<tbody>\n",
       "\t<tr><td>1 </td><td> 2</td><td> 3</td><td> 4</td></tr>\n",
       "\t<tr><td>5 </td><td> 6</td><td> 7</td><td> 8</td></tr>\n",
       "\t<tr><td>9 </td><td>10</td><td>11</td><td>12</td></tr>\n",
       "</tbody>\n",
       "</table>\n"
      ],
      "text/latex": [
       "\\begin{tabular}{llll}\n",
       "\t 1  &  2 &  3 &  4\\\\\n",
       "\t 5  &  6 &  7 &  8\\\\\n",
       "\t 9  & 10 & 11 & 12\\\\\n",
       "\\end{tabular}\n"
      ],
      "text/markdown": [
       "\n",
       "| 1  |  2 |  3 |  4 | \n",
       "| 5  |  6 |  7 |  8 | \n",
       "| 9  | 10 | 11 | 12 | \n",
       "\n",
       "\n"
      ],
      "text/plain": [
       "     [,1] [,2] [,3] [,4]\n",
       "[1,] 1     2    3    4  \n",
       "[2,] 5     6    7    8  \n",
       "[3,] 9    10   11   12  "
      ]
     },
     "metadata": {},
     "output_type": "display_data"
    }
   ],
   "source": [
    "# Making Matrix whare placing the numbers in row-wise\n",
    "\n",
    "y <- matrix(1:12, nrow = 3, ncol = 4, byrow = T)\n",
    "y"
   ]
  },
  {
   "cell_type": "code",
   "execution_count": 10,
   "metadata": {},
   "outputs": [
    {
     "data": {
      "text/html": [
       "<table>\n",
       "<tbody>\n",
       "\t<tr><td>1 </td><td> 2</td><td> 3</td><td> 4</td></tr>\n",
       "\t<tr><td>5 </td><td> 6</td><td> 7</td><td> 8</td></tr>\n",
       "\t<tr><td>9 </td><td>10</td><td>11</td><td>12</td></tr>\n",
       "</tbody>\n",
       "</table>\n"
      ],
      "text/latex": [
       "\\begin{tabular}{llll}\n",
       "\t 1  &  2 &  3 &  4\\\\\n",
       "\t 5  &  6 &  7 &  8\\\\\n",
       "\t 9  & 10 & 11 & 12\\\\\n",
       "\\end{tabular}\n"
      ],
      "text/markdown": [
       "\n",
       "| 1  |  2 |  3 |  4 | \n",
       "| 5  |  6 |  7 |  8 | \n",
       "| 9  | 10 | 11 | 12 | \n",
       "\n",
       "\n"
      ],
      "text/plain": [
       "     [,1] [,2] [,3] [,4]\n",
       "[1,] 1     2    3    4  \n",
       "[2,] 5     6    7    8  \n",
       "[3,] 9    10   11   12  "
      ]
     },
     "metadata": {},
     "output_type": "display_data"
    }
   ],
   "source": [
    "# OR\n",
    "y <- matrix(1:12, nrow = 3, byrow = T)\n",
    "y\n",
    "\n"
   ]
  },
  {
   "cell_type": "code",
   "execution_count": 12,
   "metadata": {},
   "outputs": [
    {
     "data": {
      "text/html": [
       "<table>\n",
       "<tbody>\n",
       "\t<tr><td>1 </td><td> 2</td><td> 3</td><td> 4</td></tr>\n",
       "\t<tr><td>5 </td><td> 6</td><td> 7</td><td> 8</td></tr>\n",
       "\t<tr><td>9 </td><td>10</td><td>11</td><td>12</td></tr>\n",
       "</tbody>\n",
       "</table>\n"
      ],
      "text/latex": [
       "\\begin{tabular}{llll}\n",
       "\t 1  &  2 &  3 &  4\\\\\n",
       "\t 5  &  6 &  7 &  8\\\\\n",
       "\t 9  & 10 & 11 & 12\\\\\n",
       "\\end{tabular}\n"
      ],
      "text/markdown": [
       "\n",
       "| 1  |  2 |  3 |  4 | \n",
       "| 5  |  6 |  7 |  8 | \n",
       "| 9  | 10 | 11 | 12 | \n",
       "\n",
       "\n"
      ],
      "text/plain": [
       "     [,1] [,2] [,3] [,4]\n",
       "[1,] 1     2    3    4  \n",
       "[2,] 5     6    7    8  \n",
       "[3,] 9    10   11   12  "
      ]
     },
     "metadata": {},
     "output_type": "display_data"
    }
   ],
   "source": [
    "# OR\n",
    "y <- matrix(1:12, 3, 4, 1)\n",
    "y"
   ]
  },
  {
   "cell_type": "code",
   "execution_count": 14,
   "metadata": {},
   "outputs": [
    {
     "data": {
      "text/html": [
       "<ol class=list-inline>\n",
       "\t<li>1</li>\n",
       "\t<li>2</li>\n",
       "\t<li>3</li>\n",
       "\t<li>4</li>\n",
       "</ol>\n"
      ],
      "text/latex": [
       "\\begin{enumerate*}\n",
       "\\item 1\n",
       "\\item 2\n",
       "\\item 3\n",
       "\\item 4\n",
       "\\end{enumerate*}\n"
      ],
      "text/markdown": [
       "1. 1\n",
       "2. 2\n",
       "3. 3\n",
       "4. 4\n",
       "\n",
       "\n"
      ],
      "text/plain": [
       "[1] 1 2 3 4"
      ]
     },
     "metadata": {},
     "output_type": "display_data"
    },
    {
     "data": {
      "text/html": [
       "<ol class=list-inline>\n",
       "\t<li>5</li>\n",
       "\t<li>6</li>\n",
       "\t<li>7</li>\n",
       "\t<li>8</li>\n",
       "</ol>\n"
      ],
      "text/latex": [
       "\\begin{enumerate*}\n",
       "\\item 5\n",
       "\\item 6\n",
       "\\item 7\n",
       "\\item 8\n",
       "\\end{enumerate*}\n"
      ],
      "text/markdown": [
       "1. 5\n",
       "2. 6\n",
       "3. 7\n",
       "4. 8\n",
       "\n",
       "\n"
      ],
      "text/plain": [
       "[1] 5 6 7 8"
      ]
     },
     "metadata": {},
     "output_type": "display_data"
    },
    {
     "data": {
      "text/html": [
       "<ol class=list-inline>\n",
       "\t<li>9</li>\n",
       "\t<li>10</li>\n",
       "\t<li>11</li>\n",
       "\t<li>12</li>\n",
       "</ol>\n"
      ],
      "text/latex": [
       "\\begin{enumerate*}\n",
       "\\item 9\n",
       "\\item 10\n",
       "\\item 11\n",
       "\\item 12\n",
       "\\end{enumerate*}\n"
      ],
      "text/markdown": [
       "1. 9\n",
       "2. 10\n",
       "3. 11\n",
       "4. 12\n",
       "\n",
       "\n"
      ],
      "text/plain": [
       "[1]  9 10 11 12"
      ]
     },
     "metadata": {},
     "output_type": "display_data"
    }
   ],
   "source": [
    "\n",
    "# 3) Using rbind and cbind function\n",
    "\n",
    "x1 <- 1:4\n",
    "x2 <- 5:8\n",
    "x3 <- 9:12\n",
    "\n",
    "x1; x2; x3\n"
   ]
  },
  {
   "cell_type": "code",
   "execution_count": 15,
   "metadata": {},
   "outputs": [
    {
     "data": {
      "text/html": [
       "<table>\n",
       "<tbody>\n",
       "\t<tr><th scope=row>x1</th><td>1 </td><td> 2</td><td> 3</td><td> 4</td></tr>\n",
       "\t<tr><th scope=row>x2</th><td>5 </td><td> 6</td><td> 7</td><td> 8</td></tr>\n",
       "\t<tr><th scope=row>x3</th><td>9 </td><td>10</td><td>11</td><td>12</td></tr>\n",
       "</tbody>\n",
       "</table>\n"
      ],
      "text/latex": [
       "\\begin{tabular}{r|llll}\n",
       "\tx1 & 1  &  2 &  3 &  4\\\\\n",
       "\tx2 & 5  &  6 &  7 &  8\\\\\n",
       "\tx3 & 9  & 10 & 11 & 12\\\\\n",
       "\\end{tabular}\n"
      ],
      "text/markdown": [
       "\n",
       "| x1 | 1  |  2 |  3 |  4 | \n",
       "| x2 | 5  |  6 |  7 |  8 | \n",
       "| x3 | 9  | 10 | 11 | 12 | \n",
       "\n",
       "\n"
      ],
      "text/plain": [
       "   [,1] [,2] [,3] [,4]\n",
       "x1 1     2    3    4  \n",
       "x2 5     6    7    8  \n",
       "x3 9    10   11   12  "
      ]
     },
     "metadata": {},
     "output_type": "display_data"
    }
   ],
   "source": [
    "\n",
    "rbind(x1, x2, x3)"
   ]
  },
  {
   "cell_type": "code",
   "execution_count": 16,
   "metadata": {},
   "outputs": [
    {
     "data": {
      "text/html": [
       "<table>\n",
       "<thead><tr><th scope=col>x1</th><th scope=col>x2</th><th scope=col>x3</th></tr></thead>\n",
       "<tbody>\n",
       "\t<tr><td>1 </td><td>5 </td><td> 9</td></tr>\n",
       "\t<tr><td>2 </td><td>6 </td><td>10</td></tr>\n",
       "\t<tr><td>3 </td><td>7 </td><td>11</td></tr>\n",
       "\t<tr><td>4 </td><td>8 </td><td>12</td></tr>\n",
       "</tbody>\n",
       "</table>\n"
      ],
      "text/latex": [
       "\\begin{tabular}{lll}\n",
       " x1 & x2 & x3\\\\\n",
       "\\hline\n",
       "\t 1  & 5  &  9\\\\\n",
       "\t 2  & 6  & 10\\\\\n",
       "\t 3  & 7  & 11\\\\\n",
       "\t 4  & 8  & 12\\\\\n",
       "\\end{tabular}\n"
      ],
      "text/markdown": [
       "\n",
       "x1 | x2 | x3 | \n",
       "|---|---|---|---|\n",
       "| 1  | 5  |  9 | \n",
       "| 2  | 6  | 10 | \n",
       "| 3  | 7  | 11 | \n",
       "| 4  | 8  | 12 | \n",
       "\n",
       "\n"
      ],
      "text/plain": [
       "     x1 x2 x3\n",
       "[1,] 1  5   9\n",
       "[2,] 2  6  10\n",
       "[3,] 3  7  11\n",
       "[4,] 4  8  12"
      ]
     },
     "metadata": {},
     "output_type": "display_data"
    }
   ],
   "source": [
    "cbind(x1, x2, x3)"
   ]
  },
  {
   "cell_type": "code",
   "execution_count": 17,
   "metadata": {},
   "outputs": [
    {
     "data": {
      "text/html": [
       "<table>\n",
       "<tbody>\n",
       "\t<tr><td>1 </td><td>4 </td><td>7 </td><td>10</td></tr>\n",
       "\t<tr><td>2 </td><td>5 </td><td>8 </td><td>11</td></tr>\n",
       "\t<tr><td>3 </td><td>6 </td><td>9 </td><td>12</td></tr>\n",
       "</tbody>\n",
       "</table>\n"
      ],
      "text/latex": [
       "\\begin{tabular}{llll}\n",
       "\t 1  & 4  & 7  & 10\\\\\n",
       "\t 2  & 5  & 8  & 11\\\\\n",
       "\t 3  & 6  & 9  & 12\\\\\n",
       "\\end{tabular}\n"
      ],
      "text/markdown": [
       "\n",
       "| 1  | 4  | 7  | 10 | \n",
       "| 2  | 5  | 8  | 11 | \n",
       "| 3  | 6  | 9  | 12 | \n",
       "\n",
       "\n"
      ],
      "text/plain": [
       "     [,1] [,2] [,3] [,4]\n",
       "[1,] 1    4    7    10  \n",
       "[2,] 2    5    8    11  \n",
       "[3,] 3    6    9    12  "
      ]
     },
     "metadata": {},
     "output_type": "display_data"
    }
   ],
   "source": [
    "# Dimensions name:\n",
    "x <- matrix(1:12, nrow = 3)\n",
    "x\n"
   ]
  },
  {
   "cell_type": "code",
   "execution_count": 18,
   "metadata": {},
   "outputs": [
    {
     "data": {
      "text/html": [
       "<table>\n",
       "<thead><tr><th></th><th scope=col>P</th><th scope=col>Q</th><th scope=col>R</th><th scope=col>S</th></tr></thead>\n",
       "<tbody>\n",
       "\t<tr><th scope=row>A</th><td>1 </td><td>4 </td><td>7 </td><td>10</td></tr>\n",
       "\t<tr><th scope=row>B</th><td>2 </td><td>5 </td><td>8 </td><td>11</td></tr>\n",
       "\t<tr><th scope=row>C</th><td>3 </td><td>6 </td><td>9 </td><td>12</td></tr>\n",
       "</tbody>\n",
       "</table>\n"
      ],
      "text/latex": [
       "\\begin{tabular}{r|llll}\n",
       "  & P & Q & R & S\\\\\n",
       "\\hline\n",
       "\tA & 1  & 4  & 7  & 10\\\\\n",
       "\tB & 2  & 5  & 8  & 11\\\\\n",
       "\tC & 3  & 6  & 9  & 12\\\\\n",
       "\\end{tabular}\n"
      ],
      "text/markdown": [
       "\n",
       "| <!--/--> | P | Q | R | S | \n",
       "|---|---|---|\n",
       "| A | 1  | 4  | 7  | 10 | \n",
       "| B | 2  | 5  | 8  | 11 | \n",
       "| C | 3  | 6  | 9  | 12 | \n",
       "\n",
       "\n"
      ],
      "text/plain": [
       "  P Q R S \n",
       "A 1 4 7 10\n",
       "B 2 5 8 11\n",
       "C 3 6 9 12"
      ]
     },
     "metadata": {},
     "output_type": "display_data"
    }
   ],
   "source": [
    "\n",
    "dimnames(x) <- list(c(\"A\", \"B\", \"C\"), c(\"P\", \"Q\", \"R\", \"S\"))\n",
    "x"
   ]
  },
  {
   "cell_type": "code",
   "execution_count": 19,
   "metadata": {},
   "outputs": [
    {
     "data": {
      "text/html": [
       "<table>\n",
       "<tbody>\n",
       "\t<tr><td>1</td><td>0</td><td>0</td><td>0</td><td>0</td></tr>\n",
       "\t<tr><td>0</td><td>2</td><td>0</td><td>0</td><td>0</td></tr>\n",
       "\t<tr><td>0</td><td>0</td><td>3</td><td>0</td><td>0</td></tr>\n",
       "\t<tr><td>0</td><td>0</td><td>0</td><td>4</td><td>0</td></tr>\n",
       "\t<tr><td>0</td><td>0</td><td>0</td><td>0</td><td>5</td></tr>\n",
       "</tbody>\n",
       "</table>\n"
      ],
      "text/latex": [
       "\\begin{tabular}{lllll}\n",
       "\t 1 & 0 & 0 & 0 & 0\\\\\n",
       "\t 0 & 2 & 0 & 0 & 0\\\\\n",
       "\t 0 & 0 & 3 & 0 & 0\\\\\n",
       "\t 0 & 0 & 0 & 4 & 0\\\\\n",
       "\t 0 & 0 & 0 & 0 & 5\\\\\n",
       "\\end{tabular}\n"
      ],
      "text/markdown": [
       "\n",
       "| 1 | 0 | 0 | 0 | 0 | \n",
       "| 0 | 2 | 0 | 0 | 0 | \n",
       "| 0 | 0 | 3 | 0 | 0 | \n",
       "| 0 | 0 | 0 | 4 | 0 | \n",
       "| 0 | 0 | 0 | 0 | 5 | \n",
       "\n",
       "\n"
      ],
      "text/plain": [
       "     [,1] [,2] [,3] [,4] [,5]\n",
       "[1,] 1    0    0    0    0   \n",
       "[2,] 0    2    0    0    0   \n",
       "[3,] 0    0    3    0    0   \n",
       "[4,] 0    0    0    4    0   \n",
       "[5,] 0    0    0    0    5   "
      ]
     },
     "metadata": {},
     "output_type": "display_data"
    }
   ],
   "source": [
    " \n",
    "# Diagonal matrix:(square matrix)\n",
    "\n",
    "z<-1:5\n",
    "diag(z)\n"
   ]
  },
  {
   "cell_type": "code",
   "execution_count": 22,
   "metadata": {},
   "outputs": [
    {
     "data": {
      "text/html": [
       "<ol class=list-inline>\n",
       "\t<li>1</li>\n",
       "\t<li>2</li>\n",
       "\t<li>3</li>\n",
       "\t<li>4</li>\n",
       "\t<li>5</li>\n",
       "</ol>\n"
      ],
      "text/latex": [
       "\\begin{enumerate*}\n",
       "\\item 1\n",
       "\\item 2\n",
       "\\item 3\n",
       "\\item 4\n",
       "\\item 5\n",
       "\\end{enumerate*}\n"
      ],
      "text/markdown": [
       "1. 1\n",
       "2. 2\n",
       "3. 3\n",
       "4. 4\n",
       "5. 5\n",
       "\n",
       "\n"
      ],
      "text/plain": [
       "[1] 1 2 3 4 5"
      ]
     },
     "metadata": {},
     "output_type": "display_data"
    }
   ],
   "source": [
    "y<-diag(z)\n",
    "\n",
    "diag(y)"
   ]
  },
  {
   "cell_type": "code",
   "execution_count": 23,
   "metadata": {},
   "outputs": [
    {
     "data": {
      "text/html": [
       "<table>\n",
       "<tbody>\n",
       "\t<tr><td>1</td><td>0</td><td>0</td><td>0</td><td>0</td></tr>\n",
       "\t<tr><td>0</td><td>1</td><td>0</td><td>0</td><td>0</td></tr>\n",
       "\t<tr><td>0</td><td>0</td><td>1</td><td>0</td><td>0</td></tr>\n",
       "\t<tr><td>0</td><td>0</td><td>0</td><td>1</td><td>0</td></tr>\n",
       "\t<tr><td>0</td><td>0</td><td>0</td><td>0</td><td>1</td></tr>\n",
       "</tbody>\n",
       "</table>\n"
      ],
      "text/latex": [
       "\\begin{tabular}{lllll}\n",
       "\t 1 & 0 & 0 & 0 & 0\\\\\n",
       "\t 0 & 1 & 0 & 0 & 0\\\\\n",
       "\t 0 & 0 & 1 & 0 & 0\\\\\n",
       "\t 0 & 0 & 0 & 1 & 0\\\\\n",
       "\t 0 & 0 & 0 & 0 & 1\\\\\n",
       "\\end{tabular}\n"
      ],
      "text/markdown": [
       "\n",
       "| 1 | 0 | 0 | 0 | 0 | \n",
       "| 0 | 1 | 0 | 0 | 0 | \n",
       "| 0 | 0 | 1 | 0 | 0 | \n",
       "| 0 | 0 | 0 | 1 | 0 | \n",
       "| 0 | 0 | 0 | 0 | 1 | \n",
       "\n",
       "\n"
      ],
      "text/plain": [
       "     [,1] [,2] [,3] [,4] [,5]\n",
       "[1,] 1    0    0    0    0   \n",
       "[2,] 0    1    0    0    0   \n",
       "[3,] 0    0    1    0    0   \n",
       "[4,] 0    0    0    1    0   \n",
       "[5,] 0    0    0    0    1   "
      ]
     },
     "metadata": {},
     "output_type": "display_data"
    }
   ],
   "source": [
    "# Identity matrix:\n",
    "\n",
    "diag(rep(1, 5))\n"
   ]
  },
  {
   "cell_type": "code",
   "execution_count": 24,
   "metadata": {},
   "outputs": [
    {
     "data": {
      "text/html": [
       "<table>\n",
       "<tbody>\n",
       "\t<tr><td>0</td><td>0</td><td>0</td><td>0</td><td>0</td></tr>\n",
       "\t<tr><td>0</td><td>0</td><td>0</td><td>0</td><td>0</td></tr>\n",
       "\t<tr><td>0</td><td>0</td><td>0</td><td>0</td><td>0</td></tr>\n",
       "\t<tr><td>0</td><td>0</td><td>0</td><td>0</td><td>0</td></tr>\n",
       "</tbody>\n",
       "</table>\n"
      ],
      "text/latex": [
       "\\begin{tabular}{lllll}\n",
       "\t 0 & 0 & 0 & 0 & 0\\\\\n",
       "\t 0 & 0 & 0 & 0 & 0\\\\\n",
       "\t 0 & 0 & 0 & 0 & 0\\\\\n",
       "\t 0 & 0 & 0 & 0 & 0\\\\\n",
       "\\end{tabular}\n"
      ],
      "text/markdown": [
       "\n",
       "| 0 | 0 | 0 | 0 | 0 | \n",
       "| 0 | 0 | 0 | 0 | 0 | \n",
       "| 0 | 0 | 0 | 0 | 0 | \n",
       "| 0 | 0 | 0 | 0 | 0 | \n",
       "\n",
       "\n"
      ],
      "text/plain": [
       "     [,1] [,2] [,3] [,4] [,5]\n",
       "[1,] 0    0    0    0    0   \n",
       "[2,] 0    0    0    0    0   \n",
       "[3,] 0    0    0    0    0   \n",
       "[4,] 0    0    0    0    0   "
      ]
     },
     "metadata": {},
     "output_type": "display_data"
    }
   ],
   "source": [
    "# Null matrix:\n",
    "x <- matrix(0, 4, 5)\n",
    "x"
   ]
  },
  {
   "cell_type": "code",
   "execution_count": null,
   "metadata": {},
   "outputs": [],
   "source": []
  },
  {
   "cell_type": "code",
   "execution_count": 26,
   "metadata": {},
   "outputs": [],
   "source": [
    "\n",
    "# Question: Create a vector x that has values -3, -2, -1, 0, 0, 0, 0, 5, 6, 7, 8, 8, 8, 8,\n",
    "# 10, 12, .... 18, 63, 66, .... 111, 200, .... 212, 222, 333, 444\n",
    "# then create a square matrix\n"
   ]
  },
  {
   "cell_type": "code",
   "execution_count": 27,
   "metadata": {},
   "outputs": [
    {
     "data": {
      "text/html": [
       "<ol class=list-inline>\n",
       "\t<li>-3</li>\n",
       "\t<li>-2</li>\n",
       "\t<li>-1</li>\n",
       "\t<li>0</li>\n",
       "\t<li>0</li>\n",
       "\t<li>0</li>\n",
       "\t<li>0</li>\n",
       "\t<li>5</li>\n",
       "\t<li>6</li>\n",
       "\t<li>7</li>\n",
       "\t<li>8</li>\n",
       "\t<li>8</li>\n",
       "\t<li>8</li>\n",
       "\t<li>8</li>\n",
       "\t<li>10</li>\n",
       "\t<li>12</li>\n",
       "\t<li>14</li>\n",
       "\t<li>16</li>\n",
       "\t<li>18</li>\n",
       "\t<li>63</li>\n",
       "\t<li>66</li>\n",
       "\t<li>69</li>\n",
       "\t<li>72</li>\n",
       "\t<li>75</li>\n",
       "\t<li>78</li>\n",
       "\t<li>81</li>\n",
       "\t<li>84</li>\n",
       "\t<li>87</li>\n",
       "\t<li>90</li>\n",
       "\t<li>93</li>\n",
       "\t<li>96</li>\n",
       "\t<li>99</li>\n",
       "\t<li>102</li>\n",
       "\t<li>105</li>\n",
       "\t<li>108</li>\n",
       "\t<li>111</li>\n",
       "\t<li>200</li>\n",
       "\t<li>201</li>\n",
       "\t<li>202</li>\n",
       "\t<li>203</li>\n",
       "\t<li>204</li>\n",
       "\t<li>205</li>\n",
       "\t<li>206</li>\n",
       "\t<li>207</li>\n",
       "\t<li>208</li>\n",
       "\t<li>209</li>\n",
       "\t<li>210</li>\n",
       "\t<li>211</li>\n",
       "\t<li>212</li>\n",
       "\t<li>222</li>\n",
       "\t<li>333</li>\n",
       "\t<li>444</li>\n",
       "</ol>\n"
      ],
      "text/latex": [
       "\\begin{enumerate*}\n",
       "\\item -3\n",
       "\\item -2\n",
       "\\item -1\n",
       "\\item 0\n",
       "\\item 0\n",
       "\\item 0\n",
       "\\item 0\n",
       "\\item 5\n",
       "\\item 6\n",
       "\\item 7\n",
       "\\item 8\n",
       "\\item 8\n",
       "\\item 8\n",
       "\\item 8\n",
       "\\item 10\n",
       "\\item 12\n",
       "\\item 14\n",
       "\\item 16\n",
       "\\item 18\n",
       "\\item 63\n",
       "\\item 66\n",
       "\\item 69\n",
       "\\item 72\n",
       "\\item 75\n",
       "\\item 78\n",
       "\\item 81\n",
       "\\item 84\n",
       "\\item 87\n",
       "\\item 90\n",
       "\\item 93\n",
       "\\item 96\n",
       "\\item 99\n",
       "\\item 102\n",
       "\\item 105\n",
       "\\item 108\n",
       "\\item 111\n",
       "\\item 200\n",
       "\\item 201\n",
       "\\item 202\n",
       "\\item 203\n",
       "\\item 204\n",
       "\\item 205\n",
       "\\item 206\n",
       "\\item 207\n",
       "\\item 208\n",
       "\\item 209\n",
       "\\item 210\n",
       "\\item 211\n",
       "\\item 212\n",
       "\\item 222\n",
       "\\item 333\n",
       "\\item 444\n",
       "\\end{enumerate*}\n"
      ],
      "text/markdown": [
       "1. -3\n",
       "2. -2\n",
       "3. -1\n",
       "4. 0\n",
       "5. 0\n",
       "6. 0\n",
       "7. 0\n",
       "8. 5\n",
       "9. 6\n",
       "10. 7\n",
       "11. 8\n",
       "12. 8\n",
       "13. 8\n",
       "14. 8\n",
       "15. 10\n",
       "16. 12\n",
       "17. 14\n",
       "18. 16\n",
       "19. 18\n",
       "20. 63\n",
       "21. 66\n",
       "22. 69\n",
       "23. 72\n",
       "24. 75\n",
       "25. 78\n",
       "26. 81\n",
       "27. 84\n",
       "28. 87\n",
       "29. 90\n",
       "30. 93\n",
       "31. 96\n",
       "32. 99\n",
       "33. 102\n",
       "34. 105\n",
       "35. 108\n",
       "36. 111\n",
       "37. 200\n",
       "38. 201\n",
       "39. 202\n",
       "40. 203\n",
       "41. 204\n",
       "42. 205\n",
       "43. 206\n",
       "44. 207\n",
       "45. 208\n",
       "46. 209\n",
       "47. 210\n",
       "48. 211\n",
       "49. 212\n",
       "50. 222\n",
       "51. 333\n",
       "52. 444\n",
       "\n",
       "\n"
      ],
      "text/plain": [
       " [1]  -3  -2  -1   0   0   0   0   5   6   7   8   8   8   8  10  12  14  16  18\n",
       "[20]  63  66  69  72  75  78  81  84  87  90  93  96  99 102 105 108 111 200 201\n",
       "[39] 202 203 204 205 206 207 208 209 210 211 212 222 333 444"
      ]
     },
     "metadata": {},
     "output_type": "display_data"
    }
   ],
   "source": [
    "x <- c(-3, -2, -1, rep(0, 4), 5:7, rep(8, 4), seq(10, 18, 2), seq(63, 111, 3), 200:212, 222, 333, 444)\n",
    "x"
   ]
  },
  {
   "cell_type": "code",
   "execution_count": 28,
   "metadata": {},
   "outputs": [
    {
     "data": {
      "text/html": [
       "<ol class=list-inline>\n",
       "\t<li>-3</li>\n",
       "\t<li>-2</li>\n",
       "\t<li>-1</li>\n",
       "\t<li>1</li>\n",
       "\t<li>2</li>\n",
       "\t<li>3</li>\n",
       "\t<li>4</li>\n",
       "\t<li>5</li>\n",
       "\t<li>6</li>\n",
       "\t<li>7</li>\n",
       "\t<li>8</li>\n",
       "\t<li>8</li>\n",
       "\t<li>8</li>\n",
       "\t<li>8</li>\n",
       "\t<li>10</li>\n",
       "\t<li>12</li>\n",
       "\t<li>14</li>\n",
       "\t<li>16</li>\n",
       "\t<li>18</li>\n",
       "\t<li>63</li>\n",
       "\t<li>66</li>\n",
       "\t<li>69</li>\n",
       "\t<li>72</li>\n",
       "\t<li>75</li>\n",
       "\t<li>78</li>\n",
       "\t<li>81</li>\n",
       "\t<li>84</li>\n",
       "\t<li>87</li>\n",
       "\t<li>90</li>\n",
       "\t<li>93</li>\n",
       "\t<li>96</li>\n",
       "\t<li>99</li>\n",
       "\t<li>102</li>\n",
       "\t<li>105</li>\n",
       "\t<li>108</li>\n",
       "\t<li>111</li>\n",
       "\t<li>200</li>\n",
       "\t<li>201</li>\n",
       "\t<li>202</li>\n",
       "\t<li>203</li>\n",
       "\t<li>204</li>\n",
       "\t<li>205</li>\n",
       "\t<li>206</li>\n",
       "\t<li>207</li>\n",
       "\t<li>208</li>\n",
       "\t<li>209</li>\n",
       "\t<li>210</li>\n",
       "\t<li>211</li>\n",
       "\t<li>212</li>\n",
       "\t<li>222</li>\n",
       "\t<li>333</li>\n",
       "\t<li>444</li>\n",
       "</ol>\n"
      ],
      "text/latex": [
       "\\begin{enumerate*}\n",
       "\\item -3\n",
       "\\item -2\n",
       "\\item -1\n",
       "\\item 1\n",
       "\\item 2\n",
       "\\item 3\n",
       "\\item 4\n",
       "\\item 5\n",
       "\\item 6\n",
       "\\item 7\n",
       "\\item 8\n",
       "\\item 8\n",
       "\\item 8\n",
       "\\item 8\n",
       "\\item 10\n",
       "\\item 12\n",
       "\\item 14\n",
       "\\item 16\n",
       "\\item 18\n",
       "\\item 63\n",
       "\\item 66\n",
       "\\item 69\n",
       "\\item 72\n",
       "\\item 75\n",
       "\\item 78\n",
       "\\item 81\n",
       "\\item 84\n",
       "\\item 87\n",
       "\\item 90\n",
       "\\item 93\n",
       "\\item 96\n",
       "\\item 99\n",
       "\\item 102\n",
       "\\item 105\n",
       "\\item 108\n",
       "\\item 111\n",
       "\\item 200\n",
       "\\item 201\n",
       "\\item 202\n",
       "\\item 203\n",
       "\\item 204\n",
       "\\item 205\n",
       "\\item 206\n",
       "\\item 207\n",
       "\\item 208\n",
       "\\item 209\n",
       "\\item 210\n",
       "\\item 211\n",
       "\\item 212\n",
       "\\item 222\n",
       "\\item 333\n",
       "\\item 444\n",
       "\\end{enumerate*}\n"
      ],
      "text/markdown": [
       "1. -3\n",
       "2. -2\n",
       "3. -1\n",
       "4. 1\n",
       "5. 2\n",
       "6. 3\n",
       "7. 4\n",
       "8. 5\n",
       "9. 6\n",
       "10. 7\n",
       "11. 8\n",
       "12. 8\n",
       "13. 8\n",
       "14. 8\n",
       "15. 10\n",
       "16. 12\n",
       "17. 14\n",
       "18. 16\n",
       "19. 18\n",
       "20. 63\n",
       "21. 66\n",
       "22. 69\n",
       "23. 72\n",
       "24. 75\n",
       "25. 78\n",
       "26. 81\n",
       "27. 84\n",
       "28. 87\n",
       "29. 90\n",
       "30. 93\n",
       "31. 96\n",
       "32. 99\n",
       "33. 102\n",
       "34. 105\n",
       "35. 108\n",
       "36. 111\n",
       "37. 200\n",
       "38. 201\n",
       "39. 202\n",
       "40. 203\n",
       "41. 204\n",
       "42. 205\n",
       "43. 206\n",
       "44. 207\n",
       "45. 208\n",
       "46. 209\n",
       "47. 210\n",
       "48. 211\n",
       "49. 212\n",
       "50. 222\n",
       "51. 333\n",
       "52. 444\n",
       "\n",
       "\n"
      ],
      "text/plain": [
       " [1]  -3  -2  -1   1   2   3   4   5   6   7   8   8   8   8  10  12  14  16  18\n",
       "[20]  63  66  69  72  75  78  81  84  87  90  93  96  99 102 105 108 111 200 201\n",
       "[39] 202 203 204 205 206 207 208 209 210 211 212 222 333 444"
      ]
     },
     "metadata": {},
     "output_type": "display_data"
    }
   ],
   "source": [
    "# Replace 4th to 7th values of x by 1, 2, 3, 4\n",
    "x[4:7] <- 1:4\n",
    "x"
   ]
  },
  {
   "cell_type": "code",
   "execution_count": 29,
   "metadata": {},
   "outputs": [
    {
     "data": {
      "text/html": [
       "<ol class=list-inline>\n",
       "\t<li>1</li>\n",
       "\t<li>2</li>\n",
       "\t<li>3</li>\n",
       "\t<li>4</li>\n",
       "\t<li>5</li>\n",
       "\t<li>6</li>\n",
       "\t<li>7</li>\n",
       "\t<li>8</li>\n",
       "\t<li>8</li>\n",
       "\t<li>8</li>\n",
       "\t<li>8</li>\n",
       "\t<li>10</li>\n",
       "\t<li>12</li>\n",
       "\t<li>14</li>\n",
       "\t<li>16</li>\n",
       "\t<li>18</li>\n",
       "\t<li>63</li>\n",
       "\t<li>66</li>\n",
       "\t<li>69</li>\n",
       "\t<li>72</li>\n",
       "\t<li>75</li>\n",
       "\t<li>78</li>\n",
       "\t<li>81</li>\n",
       "\t<li>84</li>\n",
       "\t<li>87</li>\n",
       "\t<li>90</li>\n",
       "\t<li>93</li>\n",
       "\t<li>96</li>\n",
       "\t<li>99</li>\n",
       "\t<li>102</li>\n",
       "\t<li>105</li>\n",
       "\t<li>108</li>\n",
       "\t<li>111</li>\n",
       "\t<li>200</li>\n",
       "\t<li>201</li>\n",
       "\t<li>202</li>\n",
       "\t<li>203</li>\n",
       "\t<li>204</li>\n",
       "\t<li>205</li>\n",
       "\t<li>206</li>\n",
       "\t<li>207</li>\n",
       "\t<li>208</li>\n",
       "\t<li>209</li>\n",
       "\t<li>210</li>\n",
       "\t<li>211</li>\n",
       "\t<li>212</li>\n",
       "\t<li>222</li>\n",
       "\t<li>333</li>\n",
       "\t<li>444</li>\n",
       "</ol>\n"
      ],
      "text/latex": [
       "\\begin{enumerate*}\n",
       "\\item 1\n",
       "\\item 2\n",
       "\\item 3\n",
       "\\item 4\n",
       "\\item 5\n",
       "\\item 6\n",
       "\\item 7\n",
       "\\item 8\n",
       "\\item 8\n",
       "\\item 8\n",
       "\\item 8\n",
       "\\item 10\n",
       "\\item 12\n",
       "\\item 14\n",
       "\\item 16\n",
       "\\item 18\n",
       "\\item 63\n",
       "\\item 66\n",
       "\\item 69\n",
       "\\item 72\n",
       "\\item 75\n",
       "\\item 78\n",
       "\\item 81\n",
       "\\item 84\n",
       "\\item 87\n",
       "\\item 90\n",
       "\\item 93\n",
       "\\item 96\n",
       "\\item 99\n",
       "\\item 102\n",
       "\\item 105\n",
       "\\item 108\n",
       "\\item 111\n",
       "\\item 200\n",
       "\\item 201\n",
       "\\item 202\n",
       "\\item 203\n",
       "\\item 204\n",
       "\\item 205\n",
       "\\item 206\n",
       "\\item 207\n",
       "\\item 208\n",
       "\\item 209\n",
       "\\item 210\n",
       "\\item 211\n",
       "\\item 212\n",
       "\\item 222\n",
       "\\item 333\n",
       "\\item 444\n",
       "\\end{enumerate*}\n"
      ],
      "text/markdown": [
       "1. 1\n",
       "2. 2\n",
       "3. 3\n",
       "4. 4\n",
       "5. 5\n",
       "6. 6\n",
       "7. 7\n",
       "8. 8\n",
       "9. 8\n",
       "10. 8\n",
       "11. 8\n",
       "12. 10\n",
       "13. 12\n",
       "14. 14\n",
       "15. 16\n",
       "16. 18\n",
       "17. 63\n",
       "18. 66\n",
       "19. 69\n",
       "20. 72\n",
       "21. 75\n",
       "22. 78\n",
       "23. 81\n",
       "24. 84\n",
       "25. 87\n",
       "26. 90\n",
       "27. 93\n",
       "28. 96\n",
       "29. 99\n",
       "30. 102\n",
       "31. 105\n",
       "32. 108\n",
       "33. 111\n",
       "34. 200\n",
       "35. 201\n",
       "36. 202\n",
       "37. 203\n",
       "38. 204\n",
       "39. 205\n",
       "40. 206\n",
       "41. 207\n",
       "42. 208\n",
       "43. 209\n",
       "44. 210\n",
       "45. 211\n",
       "46. 212\n",
       "47. 222\n",
       "48. 333\n",
       "49. 444\n",
       "\n",
       "\n"
      ],
      "text/plain": [
       " [1]   1   2   3   4   5   6   7   8   8   8   8  10  12  14  16  18  63  66  69\n",
       "[20]  72  75  78  81  84  87  90  93  96  99 102 105 108 111 200 201 202 203 204\n",
       "[39] 205 206 207 208 209 210 211 212 222 333 444"
      ]
     },
     "metadata": {},
     "output_type": "display_data"
    }
   ],
   "source": [
    "\n",
    "# Remove first three values of x using R code.\n",
    "x[-(1:3)]\n"
   ]
  },
  {
   "cell_type": "code",
   "execution_count": 30,
   "metadata": {},
   "outputs": [
    {
     "data": {
      "text/html": [
       "<ol class=list-inline>\n",
       "\t<li>1</li>\n",
       "\t<li>2</li>\n",
       "\t<li>3</li>\n",
       "\t<li>4</li>\n",
       "\t<li>5</li>\n",
       "\t<li>6</li>\n",
       "\t<li>7</li>\n",
       "\t<li>8</li>\n",
       "\t<li>8</li>\n",
       "\t<li>8</li>\n",
       "\t<li>8</li>\n",
       "\t<li>10</li>\n",
       "\t<li>12</li>\n",
       "\t<li>14</li>\n",
       "\t<li>16</li>\n",
       "\t<li>18</li>\n",
       "\t<li>63</li>\n",
       "\t<li>66</li>\n",
       "\t<li>69</li>\n",
       "\t<li>72</li>\n",
       "\t<li>75</li>\n",
       "\t<li>78</li>\n",
       "\t<li>81</li>\n",
       "\t<li>84</li>\n",
       "\t<li>87</li>\n",
       "\t<li>90</li>\n",
       "\t<li>93</li>\n",
       "\t<li>96</li>\n",
       "\t<li>99</li>\n",
       "\t<li>102</li>\n",
       "\t<li>105</li>\n",
       "\t<li>108</li>\n",
       "\t<li>111</li>\n",
       "\t<li>200</li>\n",
       "\t<li>201</li>\n",
       "\t<li>202</li>\n",
       "\t<li>203</li>\n",
       "\t<li>204</li>\n",
       "\t<li>205</li>\n",
       "\t<li>206</li>\n",
       "\t<li>207</li>\n",
       "\t<li>208</li>\n",
       "\t<li>209</li>\n",
       "\t<li>210</li>\n",
       "\t<li>211</li>\n",
       "\t<li>212</li>\n",
       "\t<li>222</li>\n",
       "\t<li>333</li>\n",
       "\t<li>444</li>\n",
       "</ol>\n"
      ],
      "text/latex": [
       "\\begin{enumerate*}\n",
       "\\item 1\n",
       "\\item 2\n",
       "\\item 3\n",
       "\\item 4\n",
       "\\item 5\n",
       "\\item 6\n",
       "\\item 7\n",
       "\\item 8\n",
       "\\item 8\n",
       "\\item 8\n",
       "\\item 8\n",
       "\\item 10\n",
       "\\item 12\n",
       "\\item 14\n",
       "\\item 16\n",
       "\\item 18\n",
       "\\item 63\n",
       "\\item 66\n",
       "\\item 69\n",
       "\\item 72\n",
       "\\item 75\n",
       "\\item 78\n",
       "\\item 81\n",
       "\\item 84\n",
       "\\item 87\n",
       "\\item 90\n",
       "\\item 93\n",
       "\\item 96\n",
       "\\item 99\n",
       "\\item 102\n",
       "\\item 105\n",
       "\\item 108\n",
       "\\item 111\n",
       "\\item 200\n",
       "\\item 201\n",
       "\\item 202\n",
       "\\item 203\n",
       "\\item 204\n",
       "\\item 205\n",
       "\\item 206\n",
       "\\item 207\n",
       "\\item 208\n",
       "\\item 209\n",
       "\\item 210\n",
       "\\item 211\n",
       "\\item 212\n",
       "\\item 222\n",
       "\\item 333\n",
       "\\item 444\n",
       "\\end{enumerate*}\n"
      ],
      "text/markdown": [
       "1. 1\n",
       "2. 2\n",
       "3. 3\n",
       "4. 4\n",
       "5. 5\n",
       "6. 6\n",
       "7. 7\n",
       "8. 8\n",
       "9. 8\n",
       "10. 8\n",
       "11. 8\n",
       "12. 10\n",
       "13. 12\n",
       "14. 14\n",
       "15. 16\n",
       "16. 18\n",
       "17. 63\n",
       "18. 66\n",
       "19. 69\n",
       "20. 72\n",
       "21. 75\n",
       "22. 78\n",
       "23. 81\n",
       "24. 84\n",
       "25. 87\n",
       "26. 90\n",
       "27. 93\n",
       "28. 96\n",
       "29. 99\n",
       "30. 102\n",
       "31. 105\n",
       "32. 108\n",
       "33. 111\n",
       "34. 200\n",
       "35. 201\n",
       "36. 202\n",
       "37. 203\n",
       "38. 204\n",
       "39. 205\n",
       "40. 206\n",
       "41. 207\n",
       "42. 208\n",
       "43. 209\n",
       "44. 210\n",
       "45. 211\n",
       "46. 212\n",
       "47. 222\n",
       "48. 333\n",
       "49. 444\n",
       "\n",
       "\n"
      ],
      "text/plain": [
       " [1]   1   2   3   4   5   6   7   8   8   8   8  10  12  14  16  18  63  66  69\n",
       "[20]  72  75  78  81  84  87  90  93  96  99 102 105 108 111 200 201 202 203 204\n",
       "[39] 205 206 207 208 209 210 211 212 222 333 444"
      ]
     },
     "metadata": {},
     "output_type": "display_data"
    }
   ],
   "source": [
    "\n",
    "z <- x[-(1:3)]\n",
    "z"
   ]
  },
  {
   "cell_type": "code",
   "execution_count": 32,
   "metadata": {},
   "outputs": [
    {
     "data": {
      "text/html": [
       "49"
      ],
      "text/latex": [
       "49"
      ],
      "text/markdown": [
       "49"
      ],
      "text/plain": [
       "[1] 49"
      ]
     },
     "metadata": {},
     "output_type": "display_data"
    }
   ],
   "source": [
    "\n",
    "# Create a square matrix from the above values of x and store at y\n",
    "length(z)"
   ]
  },
  {
   "cell_type": "code",
   "execution_count": 33,
   "metadata": {},
   "outputs": [
    {
     "data": {
      "text/html": [
       "<table>\n",
       "<tbody>\n",
       "\t<tr><td>  1</td><td>  2</td><td>  3</td><td>  4</td><td>  5</td><td>  6</td><td>  7</td></tr>\n",
       "\t<tr><td>  8</td><td>  8</td><td>  8</td><td>  8</td><td> 10</td><td> 12</td><td> 14</td></tr>\n",
       "\t<tr><td> 16</td><td> 18</td><td> 63</td><td> 66</td><td> 69</td><td> 72</td><td> 75</td></tr>\n",
       "\t<tr><td> 78</td><td> 81</td><td> 84</td><td> 87</td><td> 90</td><td> 93</td><td> 96</td></tr>\n",
       "\t<tr><td> 99</td><td>102</td><td>105</td><td>108</td><td>111</td><td>200</td><td>201</td></tr>\n",
       "\t<tr><td>202</td><td>203</td><td>204</td><td>205</td><td>206</td><td>207</td><td>208</td></tr>\n",
       "\t<tr><td>209</td><td>210</td><td>211</td><td>212</td><td>222</td><td>333</td><td>444</td></tr>\n",
       "</tbody>\n",
       "</table>\n"
      ],
      "text/latex": [
       "\\begin{tabular}{lllllll}\n",
       "\t   1 &   2 &   3 &   4 &   5 &   6 &   7\\\\\n",
       "\t   8 &   8 &   8 &   8 &  10 &  12 &  14\\\\\n",
       "\t  16 &  18 &  63 &  66 &  69 &  72 &  75\\\\\n",
       "\t  78 &  81 &  84 &  87 &  90 &  93 &  96\\\\\n",
       "\t  99 & 102 & 105 & 108 & 111 & 200 & 201\\\\\n",
       "\t 202 & 203 & 204 & 205 & 206 & 207 & 208\\\\\n",
       "\t 209 & 210 & 211 & 212 & 222 & 333 & 444\\\\\n",
       "\\end{tabular}\n"
      ],
      "text/markdown": [
       "\n",
       "|   1 |   2 |   3 |   4 |   5 |   6 |   7 | \n",
       "|   8 |   8 |   8 |   8 |  10 |  12 |  14 | \n",
       "|  16 |  18 |  63 |  66 |  69 |  72 |  75 | \n",
       "|  78 |  81 |  84 |  87 |  90 |  93 |  96 | \n",
       "|  99 | 102 | 105 | 108 | 111 | 200 | 201 | \n",
       "| 202 | 203 | 204 | 205 | 206 | 207 | 208 | \n",
       "| 209 | 210 | 211 | 212 | 222 | 333 | 444 | \n",
       "\n",
       "\n"
      ],
      "text/plain": [
       "     [,1] [,2] [,3] [,4] [,5] [,6] [,7]\n",
       "[1,]   1    2    3    4    5    6    7 \n",
       "[2,]   8    8    8    8   10   12   14 \n",
       "[3,]  16   18   63   66   69   72   75 \n",
       "[4,]  78   81   84   87   90   93   96 \n",
       "[5,]  99  102  105  108  111  200  201 \n",
       "[6,] 202  203  204  205  206  207  208 \n",
       "[7,] 209  210  211  212  222  333  444 "
      ]
     },
     "metadata": {},
     "output_type": "display_data"
    }
   ],
   "source": [
    "y <- matrix(z, ncol = 7, byrow = T)\n",
    "y"
   ]
  },
  {
   "cell_type": "code",
   "execution_count": null,
   "metadata": {},
   "outputs": [],
   "source": []
  },
  {
   "cell_type": "code",
   "execution_count": 34,
   "metadata": {},
   "outputs": [
    {
     "data": {
      "text/html": [
       "<ol class=list-inline>\n",
       "\t<li>78</li>\n",
       "\t<li>81</li>\n",
       "\t<li>84</li>\n",
       "\t<li>87</li>\n",
       "\t<li>90</li>\n",
       "\t<li>93</li>\n",
       "\t<li>96</li>\n",
       "</ol>\n"
      ],
      "text/latex": [
       "\\begin{enumerate*}\n",
       "\\item 78\n",
       "\\item 81\n",
       "\\item 84\n",
       "\\item 87\n",
       "\\item 90\n",
       "\\item 93\n",
       "\\item 96\n",
       "\\end{enumerate*}\n"
      ],
      "text/markdown": [
       "1. 78\n",
       "2. 81\n",
       "3. 84\n",
       "4. 87\n",
       "5. 90\n",
       "6. 93\n",
       "7. 96\n",
       "\n",
       "\n"
      ],
      "text/plain": [
       "[1] 78 81 84 87 90 93 96"
      ]
     },
     "metadata": {},
     "output_type": "display_data"
    }
   ],
   "source": [
    "\n",
    "# Write the command function to display the 4th row.\n",
    "y[4, ]\n"
   ]
  },
  {
   "cell_type": "code",
   "execution_count": 35,
   "metadata": {},
   "outputs": [
    {
     "data": {
      "text/html": [
       "<ol class=list-inline>\n",
       "\t<li>4</li>\n",
       "\t<li>8</li>\n",
       "\t<li>66</li>\n",
       "\t<li>87</li>\n",
       "\t<li>108</li>\n",
       "\t<li>205</li>\n",
       "\t<li>212</li>\n",
       "</ol>\n"
      ],
      "text/latex": [
       "\\begin{enumerate*}\n",
       "\\item 4\n",
       "\\item 8\n",
       "\\item 66\n",
       "\\item 87\n",
       "\\item 108\n",
       "\\item 205\n",
       "\\item 212\n",
       "\\end{enumerate*}\n"
      ],
      "text/markdown": [
       "1. 4\n",
       "2. 8\n",
       "3. 66\n",
       "4. 87\n",
       "5. 108\n",
       "6. 205\n",
       "7. 212\n",
       "\n",
       "\n"
      ],
      "text/plain": [
       "[1]   4   8  66  87 108 205 212"
      ]
     },
     "metadata": {},
     "output_type": "display_data"
    }
   ],
   "source": [
    "\n",
    "# Write the command function to display the 4th column.\n",
    "y[, 4]"
   ]
  },
  {
   "cell_type": "code",
   "execution_count": 36,
   "metadata": {},
   "outputs": [
    {
     "data": {
      "text/html": [
       "87"
      ],
      "text/latex": [
       "87"
      ],
      "text/markdown": [
       "87"
      ],
      "text/plain": [
       "[1] 87"
      ]
     },
     "metadata": {},
     "output_type": "display_data"
    }
   ],
   "source": [
    "# Write the command function to display the 4th row and 4th column.\n",
    "y[4,4]\n"
   ]
  },
  {
   "cell_type": "code",
   "execution_count": 37,
   "metadata": {},
   "outputs": [
    {
     "data": {
      "text/html": [
       "<table>\n",
       "<tbody>\n",
       "\t<tr><td> 12</td><td> 22</td><td> 32</td><td> 42</td><td> 52</td><td> 62</td><td> 72</td></tr>\n",
       "\t<tr><td>  8</td><td>  8</td><td>  8</td><td>  8</td><td> 10</td><td> 12</td><td> 14</td></tr>\n",
       "\t<tr><td> 16</td><td> 18</td><td> 63</td><td> 66</td><td> 69</td><td> 72</td><td> 75</td></tr>\n",
       "\t<tr><td> 78</td><td> 81</td><td> 84</td><td> 87</td><td> 90</td><td> 93</td><td> 96</td></tr>\n",
       "\t<tr><td> 99</td><td>102</td><td>105</td><td>108</td><td>111</td><td>200</td><td>201</td></tr>\n",
       "\t<tr><td>202</td><td>203</td><td>204</td><td>205</td><td>206</td><td>207</td><td>208</td></tr>\n",
       "\t<tr><td>209</td><td>210</td><td>211</td><td>212</td><td>222</td><td>333</td><td>444</td></tr>\n",
       "</tbody>\n",
       "</table>\n"
      ],
      "text/latex": [
       "\\begin{tabular}{lllllll}\n",
       "\t  12 &  22 &  32 &  42 &  52 &  62 &  72\\\\\n",
       "\t   8 &   8 &   8 &   8 &  10 &  12 &  14\\\\\n",
       "\t  16 &  18 &  63 &  66 &  69 &  72 &  75\\\\\n",
       "\t  78 &  81 &  84 &  87 &  90 &  93 &  96\\\\\n",
       "\t  99 & 102 & 105 & 108 & 111 & 200 & 201\\\\\n",
       "\t 202 & 203 & 204 & 205 & 206 & 207 & 208\\\\\n",
       "\t 209 & 210 & 211 & 212 & 222 & 333 & 444\\\\\n",
       "\\end{tabular}\n"
      ],
      "text/markdown": [
       "\n",
       "|  12 |  22 |  32 |  42 |  52 |  62 |  72 | \n",
       "|   8 |   8 |   8 |   8 |  10 |  12 |  14 | \n",
       "|  16 |  18 |  63 |  66 |  69 |  72 |  75 | \n",
       "|  78 |  81 |  84 |  87 |  90 |  93 |  96 | \n",
       "|  99 | 102 | 105 | 108 | 111 | 200 | 201 | \n",
       "| 202 | 203 | 204 | 205 | 206 | 207 | 208 | \n",
       "| 209 | 210 | 211 | 212 | 222 | 333 | 444 | \n",
       "\n",
       "\n"
      ],
      "text/plain": [
       "     [,1] [,2] [,3] [,4] [,5] [,6] [,7]\n",
       "[1,]  12   22   32   42   52   62   72 \n",
       "[2,]   8    8    8    8   10   12   14 \n",
       "[3,]  16   18   63   66   69   72   75 \n",
       "[4,]  78   81   84   87   90   93   96 \n",
       "[5,]  99  102  105  108  111  200  201 \n",
       "[6,] 202  203  204  205  206  207  208 \n",
       "[7,] 209  210  211  212  222  333  444 "
      ]
     },
     "metadata": {},
     "output_type": "display_data"
    }
   ],
   "source": [
    "# Replace 1st row of the matrix y by 12, 22, ... 72\n",
    "y[1,] <- c(seq(12, 72, 10))\n",
    "y"
   ]
  },
  {
   "cell_type": "code",
   "execution_count": null,
   "metadata": {},
   "outputs": [],
   "source": []
  },
  {
   "cell_type": "code",
   "execution_count": 39,
   "metadata": {},
   "outputs": [
    {
     "data": {
      "image/png": "[encoded data removed]",
      "text/plain": [
       "plot without title"
      ]
     },
     "metadata": {},
     "output_type": "display_data"
    }
   ],
   "source": [
    "# Plot the 2nd column of y against 1st column of y (a line)\n",
    "\n",
    "plot(y[,1], y[,2], type = \"l\")"
   ]
  },
  {
   "cell_type": "code",
   "execution_count": null,
   "metadata": {},
   "outputs": [],
   "source": []
  },
  {
   "cell_type": "code",
   "execution_count": 40,
   "metadata": {},
   "outputs": [],
   "source": [
    "# Question: Create the matrix y in R code\n",
    "#     16    25    7\n",
    "#     17    26    9\n",
    "#     ..    ..    .\n",
    "#     45    54    65\n"
   ]
  },
  {
   "cell_type": "code",
   "execution_count": 41,
   "metadata": {},
   "outputs": [
    {
     "data": {
      "text/html": [
       "<table>\n",
       "<tbody>\n",
       "\t<tr><td>16</td><td>25</td><td> 7</td></tr>\n",
       "\t<tr><td>17</td><td>26</td><td> 9</td></tr>\n",
       "\t<tr><td>18</td><td>27</td><td>11</td></tr>\n",
       "\t<tr><td>19</td><td>28</td><td>13</td></tr>\n",
       "\t<tr><td>20</td><td>29</td><td>15</td></tr>\n",
       "\t<tr><td>21</td><td>30</td><td>17</td></tr>\n",
       "\t<tr><td>22</td><td>31</td><td>19</td></tr>\n",
       "\t<tr><td>23</td><td>32</td><td>21</td></tr>\n",
       "\t<tr><td>24</td><td>33</td><td>23</td></tr>\n",
       "\t<tr><td>25</td><td>34</td><td>25</td></tr>\n",
       "\t<tr><td>26</td><td>35</td><td>27</td></tr>\n",
       "\t<tr><td>27</td><td>36</td><td>29</td></tr>\n",
       "\t<tr><td>28</td><td>37</td><td>31</td></tr>\n",
       "\t<tr><td>29</td><td>38</td><td>33</td></tr>\n",
       "\t<tr><td>30</td><td>39</td><td>35</td></tr>\n",
       "\t<tr><td>31</td><td>40</td><td>37</td></tr>\n",
       "\t<tr><td>32</td><td>41</td><td>39</td></tr>\n",
       "\t<tr><td>33</td><td>42</td><td>41</td></tr>\n",
       "\t<tr><td>34</td><td>43</td><td>43</td></tr>\n",
       "\t<tr><td>35</td><td>44</td><td>45</td></tr>\n",
       "\t<tr><td>36</td><td>45</td><td>47</td></tr>\n",
       "\t<tr><td>37</td><td>46</td><td>49</td></tr>\n",
       "\t<tr><td>38</td><td>47</td><td>51</td></tr>\n",
       "\t<tr><td>39</td><td>48</td><td>53</td></tr>\n",
       "\t<tr><td>40</td><td>49</td><td>55</td></tr>\n",
       "\t<tr><td>41</td><td>50</td><td>57</td></tr>\n",
       "\t<tr><td>42</td><td>51</td><td>59</td></tr>\n",
       "\t<tr><td>43</td><td>52</td><td>61</td></tr>\n",
       "\t<tr><td>44</td><td>53</td><td>63</td></tr>\n",
       "\t<tr><td>45</td><td>54</td><td>65</td></tr>\n",
       "</tbody>\n",
       "</table>\n"
      ],
      "text/latex": [
       "\\begin{tabular}{lll}\n",
       "\t 16 & 25 &  7\\\\\n",
       "\t 17 & 26 &  9\\\\\n",
       "\t 18 & 27 & 11\\\\\n",
       "\t 19 & 28 & 13\\\\\n",
       "\t 20 & 29 & 15\\\\\n",
       "\t 21 & 30 & 17\\\\\n",
       "\t 22 & 31 & 19\\\\\n",
       "\t 23 & 32 & 21\\\\\n",
       "\t 24 & 33 & 23\\\\\n",
       "\t 25 & 34 & 25\\\\\n",
       "\t 26 & 35 & 27\\\\\n",
       "\t 27 & 36 & 29\\\\\n",
       "\t 28 & 37 & 31\\\\\n",
       "\t 29 & 38 & 33\\\\\n",
       "\t 30 & 39 & 35\\\\\n",
       "\t 31 & 40 & 37\\\\\n",
       "\t 32 & 41 & 39\\\\\n",
       "\t 33 & 42 & 41\\\\\n",
       "\t 34 & 43 & 43\\\\\n",
       "\t 35 & 44 & 45\\\\\n",
       "\t 36 & 45 & 47\\\\\n",
       "\t 37 & 46 & 49\\\\\n",
       "\t 38 & 47 & 51\\\\\n",
       "\t 39 & 48 & 53\\\\\n",
       "\t 40 & 49 & 55\\\\\n",
       "\t 41 & 50 & 57\\\\\n",
       "\t 42 & 51 & 59\\\\\n",
       "\t 43 & 52 & 61\\\\\n",
       "\t 44 & 53 & 63\\\\\n",
       "\t 45 & 54 & 65\\\\\n",
       "\\end{tabular}\n"
      ],
      "text/markdown": [
       "\n",
       "| 16 | 25 |  7 | \n",
       "| 17 | 26 |  9 | \n",
       "| 18 | 27 | 11 | \n",
       "| 19 | 28 | 13 | \n",
       "| 20 | 29 | 15 | \n",
       "| 21 | 30 | 17 | \n",
       "| 22 | 31 | 19 | \n",
       "| 23 | 32 | 21 | \n",
       "| 24 | 33 | 23 | \n",
       "| 25 | 34 | 25 | \n",
       "| 26 | 35 | 27 | \n",
       "| 27 | 36 | 29 | \n",
       "| 28 | 37 | 31 | \n",
       "| 29 | 38 | 33 | \n",
       "| 30 | 39 | 35 | \n",
       "| 31 | 40 | 37 | \n",
       "| 32 | 41 | 39 | \n",
       "| 33 | 42 | 41 | \n",
       "| 34 | 43 | 43 | \n",
       "| 35 | 44 | 45 | \n",
       "| 36 | 45 | 47 | \n",
       "| 37 | 46 | 49 | \n",
       "| 38 | 47 | 51 | \n",
       "| 39 | 48 | 53 | \n",
       "| 40 | 49 | 55 | \n",
       "| 41 | 50 | 57 | \n",
       "| 42 | 51 | 59 | \n",
       "| 43 | 52 | 61 | \n",
       "| 44 | 53 | 63 | \n",
       "| 45 | 54 | 65 | \n",
       "\n",
       "\n"
      ],
      "text/plain": [
       "      [,1] [,2] [,3]\n",
       " [1,] 16   25    7  \n",
       " [2,] 17   26    9  \n",
       " [3,] 18   27   11  \n",
       " [4,] 19   28   13  \n",
       " [5,] 20   29   15  \n",
       " [6,] 21   30   17  \n",
       " [7,] 22   31   19  \n",
       " [8,] 23   32   21  \n",
       " [9,] 24   33   23  \n",
       "[10,] 25   34   25  \n",
       "[11,] 26   35   27  \n",
       "[12,] 27   36   29  \n",
       "[13,] 28   37   31  \n",
       "[14,] 29   38   33  \n",
       "[15,] 30   39   35  \n",
       "[16,] 31   40   37  \n",
       "[17,] 32   41   39  \n",
       "[18,] 33   42   41  \n",
       "[19,] 34   43   43  \n",
       "[20,] 35   44   45  \n",
       "[21,] 36   45   47  \n",
       "[22,] 37   46   49  \n",
       "[23,] 38   47   51  \n",
       "[24,] 39   48   53  \n",
       "[25,] 40   49   55  \n",
       "[26,] 41   50   57  \n",
       "[27,] 42   51   59  \n",
       "[28,] 43   52   61  \n",
       "[29,] 44   53   63  \n",
       "[30,] 45   54   65  "
      ]
     },
     "metadata": {},
     "output_type": "display_data"
    }
   ],
   "source": [
    "y <- cbind(16:45, 25:54, seq(7, 65, 2))\n",
    "y"
   ]
  },
  {
   "cell_type": "code",
   "execution_count": 42,
   "metadata": {},
   "outputs": [
    {
     "data": {
      "text/html": [
       "<ol class=list-inline>\n",
       "\t<li>16</li>\n",
       "\t<li>17</li>\n",
       "\t<li>18</li>\n",
       "\t<li>19</li>\n",
       "\t<li>20</li>\n",
       "\t<li>21</li>\n",
       "\t<li>22</li>\n",
       "\t<li>23</li>\n",
       "\t<li>24</li>\n",
       "\t<li>25</li>\n",
       "\t<li>26</li>\n",
       "\t<li>27</li>\n",
       "\t<li>28</li>\n",
       "\t<li>29</li>\n",
       "\t<li>30</li>\n",
       "\t<li>31</li>\n",
       "\t<li>32</li>\n",
       "\t<li>33</li>\n",
       "\t<li>34</li>\n",
       "\t<li>35</li>\n",
       "\t<li>36</li>\n",
       "\t<li>37</li>\n",
       "\t<li>38</li>\n",
       "\t<li>39</li>\n",
       "\t<li>40</li>\n",
       "\t<li>41</li>\n",
       "\t<li>42</li>\n",
       "\t<li>43</li>\n",
       "\t<li>44</li>\n",
       "\t<li>45</li>\n",
       "</ol>\n"
      ],
      "text/latex": [
       "\\begin{enumerate*}\n",
       "\\item 16\n",
       "\\item 17\n",
       "\\item 18\n",
       "\\item 19\n",
       "\\item 20\n",
       "\\item 21\n",
       "\\item 22\n",
       "\\item 23\n",
       "\\item 24\n",
       "\\item 25\n",
       "\\item 26\n",
       "\\item 27\n",
       "\\item 28\n",
       "\\item 29\n",
       "\\item 30\n",
       "\\item 31\n",
       "\\item 32\n",
       "\\item 33\n",
       "\\item 34\n",
       "\\item 35\n",
       "\\item 36\n",
       "\\item 37\n",
       "\\item 38\n",
       "\\item 39\n",
       "\\item 40\n",
       "\\item 41\n",
       "\\item 42\n",
       "\\item 43\n",
       "\\item 44\n",
       "\\item 45\n",
       "\\end{enumerate*}\n"
      ],
      "text/markdown": [
       "1. 16\n",
       "2. 17\n",
       "3. 18\n",
       "4. 19\n",
       "5. 20\n",
       "6. 21\n",
       "7. 22\n",
       "8. 23\n",
       "9. 24\n",
       "10. 25\n",
       "11. 26\n",
       "12. 27\n",
       "13. 28\n",
       "14. 29\n",
       "15. 30\n",
       "16. 31\n",
       "17. 32\n",
       "18. 33\n",
       "19. 34\n",
       "20. 35\n",
       "21. 36\n",
       "22. 37\n",
       "23. 38\n",
       "24. 39\n",
       "25. 40\n",
       "26. 41\n",
       "27. 42\n",
       "28. 43\n",
       "29. 44\n",
       "30. 45\n",
       "\n",
       "\n"
      ],
      "text/plain": [
       " [1] 16 17 18 19 20 21 22 23 24 25 26 27 28 29 30 31 32 33 34 35 36 37 38 39 40\n",
       "[26] 41 42 43 44 45"
      ]
     },
     "metadata": {},
     "output_type": "display_data"
    },
    {
     "data": {
      "text/html": [
       "<ol class=list-inline>\n",
       "\t<li>25</li>\n",
       "\t<li>26</li>\n",
       "\t<li>27</li>\n",
       "\t<li>28</li>\n",
       "\t<li>29</li>\n",
       "\t<li>30</li>\n",
       "\t<li>31</li>\n",
       "\t<li>32</li>\n",
       "\t<li>33</li>\n",
       "\t<li>34</li>\n",
       "\t<li>35</li>\n",
       "\t<li>36</li>\n",
       "\t<li>37</li>\n",
       "\t<li>38</li>\n",
       "\t<li>39</li>\n",
       "\t<li>40</li>\n",
       "\t<li>41</li>\n",
       "\t<li>42</li>\n",
       "\t<li>43</li>\n",
       "\t<li>44</li>\n",
       "\t<li>45</li>\n",
       "\t<li>46</li>\n",
       "\t<li>47</li>\n",
       "\t<li>48</li>\n",
       "\t<li>49</li>\n",
       "\t<li>50</li>\n",
       "\t<li>51</li>\n",
       "\t<li>52</li>\n",
       "\t<li>53</li>\n",
       "\t<li>54</li>\n",
       "</ol>\n"
      ],
      "text/latex": [
       "\\begin{enumerate*}\n",
       "\\item 25\n",
       "\\item 26\n",
       "\\item 27\n",
       "\\item 28\n",
       "\\item 29\n",
       "\\item 30\n",
       "\\item 31\n",
       "\\item 32\n",
       "\\item 33\n",
       "\\item 34\n",
       "\\item 35\n",
       "\\item 36\n",
       "\\item 37\n",
       "\\item 38\n",
       "\\item 39\n",
       "\\item 40\n",
       "\\item 41\n",
       "\\item 42\n",
       "\\item 43\n",
       "\\item 44\n",
       "\\item 45\n",
       "\\item 46\n",
       "\\item 47\n",
       "\\item 48\n",
       "\\item 49\n",
       "\\item 50\n",
       "\\item 51\n",
       "\\item 52\n",
       "\\item 53\n",
       "\\item 54\n",
       "\\end{enumerate*}\n"
      ],
      "text/markdown": [
       "1. 25\n",
       "2. 26\n",
       "3. 27\n",
       "4. 28\n",
       "5. 29\n",
       "6. 30\n",
       "7. 31\n",
       "8. 32\n",
       "9. 33\n",
       "10. 34\n",
       "11. 35\n",
       "12. 36\n",
       "13. 37\n",
       "14. 38\n",
       "15. 39\n",
       "16. 40\n",
       "17. 41\n",
       "18. 42\n",
       "19. 43\n",
       "20. 44\n",
       "21. 45\n",
       "22. 46\n",
       "23. 47\n",
       "24. 48\n",
       "25. 49\n",
       "26. 50\n",
       "27. 51\n",
       "28. 52\n",
       "29. 53\n",
       "30. 54\n",
       "\n",
       "\n"
      ],
      "text/plain": [
       " [1] 25 26 27 28 29 30 31 32 33 34 35 36 37 38 39 40 41 42 43 44 45 46 47 48 49\n",
       "[26] 50 51 52 53 54"
      ]
     },
     "metadata": {},
     "output_type": "display_data"
    },
    {
     "data": {
      "text/html": [
       "<ol class=list-inline>\n",
       "\t<li>7</li>\n",
       "\t<li>9</li>\n",
       "\t<li>11</li>\n",
       "\t<li>13</li>\n",
       "\t<li>15</li>\n",
       "\t<li>17</li>\n",
       "\t<li>19</li>\n",
       "\t<li>21</li>\n",
       "\t<li>23</li>\n",
       "\t<li>25</li>\n",
       "\t<li>27</li>\n",
       "\t<li>29</li>\n",
       "\t<li>31</li>\n",
       "\t<li>33</li>\n",
       "\t<li>35</li>\n",
       "\t<li>37</li>\n",
       "\t<li>39</li>\n",
       "\t<li>41</li>\n",
       "\t<li>43</li>\n",
       "\t<li>45</li>\n",
       "\t<li>47</li>\n",
       "\t<li>49</li>\n",
       "\t<li>51</li>\n",
       "\t<li>53</li>\n",
       "\t<li>55</li>\n",
       "\t<li>57</li>\n",
       "\t<li>59</li>\n",
       "\t<li>61</li>\n",
       "\t<li>63</li>\n",
       "\t<li>65</li>\n",
       "</ol>\n"
      ],
      "text/latex": [
       "\\begin{enumerate*}\n",
       "\\item 7\n",
       "\\item 9\n",
       "\\item 11\n",
       "\\item 13\n",
       "\\item 15\n",
       "\\item 17\n",
       "\\item 19\n",
       "\\item 21\n",
       "\\item 23\n",
       "\\item 25\n",
       "\\item 27\n",
       "\\item 29\n",
       "\\item 31\n",
       "\\item 33\n",
       "\\item 35\n",
       "\\item 37\n",
       "\\item 39\n",
       "\\item 41\n",
       "\\item 43\n",
       "\\item 45\n",
       "\\item 47\n",
       "\\item 49\n",
       "\\item 51\n",
       "\\item 53\n",
       "\\item 55\n",
       "\\item 57\n",
       "\\item 59\n",
       "\\item 61\n",
       "\\item 63\n",
       "\\item 65\n",
       "\\end{enumerate*}\n"
      ],
      "text/markdown": [
       "1. 7\n",
       "2. 9\n",
       "3. 11\n",
       "4. 13\n",
       "5. 15\n",
       "6. 17\n",
       "7. 19\n",
       "8. 21\n",
       "9. 23\n",
       "10. 25\n",
       "11. 27\n",
       "12. 29\n",
       "13. 31\n",
       "14. 33\n",
       "15. 35\n",
       "16. 37\n",
       "17. 39\n",
       "18. 41\n",
       "19. 43\n",
       "20. 45\n",
       "21. 47\n",
       "22. 49\n",
       "23. 51\n",
       "24. 53\n",
       "25. 55\n",
       "26. 57\n",
       "27. 59\n",
       "28. 61\n",
       "29. 63\n",
       "30. 65\n",
       "\n",
       "\n"
      ],
      "text/plain": [
       " [1]  7  9 11 13 15 17 19 21 23 25 27 29 31 33 35 37 39 41 43 45 47 49 51 53 55\n",
       "[26] 57 59 61 63 65"
      ]
     },
     "metadata": {},
     "output_type": "display_data"
    }
   ],
   "source": [
    "# Create three vectors y1, y2 and y3 using 3 columns of y.\n",
    "y1 <- y[,1]\n",
    "y1\n",
    "\n",
    "y2 <- y[,2]\n",
    "y2\n",
    "\n",
    "y3 <- y[,3]\n",
    "y3\n"
   ]
  },
  {
   "cell_type": "code",
   "execution_count": 43,
   "metadata": {},
   "outputs": [],
   "source": [
    "\n",
    "# Write the R command to create new column named y4 whose elements will be the sum of corresponding elements of the given 3 columns."
   ]
  },
  {
   "cell_type": "code",
   "execution_count": 44,
   "metadata": {},
   "outputs": [
    {
     "data": {
      "text/html": [
       "<ol class=list-inline>\n",
       "\t<li>48</li>\n",
       "\t<li>52</li>\n",
       "\t<li>56</li>\n",
       "\t<li>60</li>\n",
       "\t<li>64</li>\n",
       "\t<li>68</li>\n",
       "\t<li>72</li>\n",
       "\t<li>76</li>\n",
       "\t<li>80</li>\n",
       "\t<li>84</li>\n",
       "\t<li>88</li>\n",
       "\t<li>92</li>\n",
       "\t<li>96</li>\n",
       "\t<li>100</li>\n",
       "\t<li>104</li>\n",
       "\t<li>108</li>\n",
       "\t<li>112</li>\n",
       "\t<li>116</li>\n",
       "\t<li>120</li>\n",
       "\t<li>124</li>\n",
       "\t<li>128</li>\n",
       "\t<li>132</li>\n",
       "\t<li>136</li>\n",
       "\t<li>140</li>\n",
       "\t<li>144</li>\n",
       "\t<li>148</li>\n",
       "\t<li>152</li>\n",
       "\t<li>156</li>\n",
       "\t<li>160</li>\n",
       "\t<li>164</li>\n",
       "</ol>\n"
      ],
      "text/latex": [
       "\\begin{enumerate*}\n",
       "\\item 48\n",
       "\\item 52\n",
       "\\item 56\n",
       "\\item 60\n",
       "\\item 64\n",
       "\\item 68\n",
       "\\item 72\n",
       "\\item 76\n",
       "\\item 80\n",
       "\\item 84\n",
       "\\item 88\n",
       "\\item 92\n",
       "\\item 96\n",
       "\\item 100\n",
       "\\item 104\n",
       "\\item 108\n",
       "\\item 112\n",
       "\\item 116\n",
       "\\item 120\n",
       "\\item 124\n",
       "\\item 128\n",
       "\\item 132\n",
       "\\item 136\n",
       "\\item 140\n",
       "\\item 144\n",
       "\\item 148\n",
       "\\item 152\n",
       "\\item 156\n",
       "\\item 160\n",
       "\\item 164\n",
       "\\end{enumerate*}\n"
      ],
      "text/markdown": [
       "1. 48\n",
       "2. 52\n",
       "3. 56\n",
       "4. 60\n",
       "5. 64\n",
       "6. 68\n",
       "7. 72\n",
       "8. 76\n",
       "9. 80\n",
       "10. 84\n",
       "11. 88\n",
       "12. 92\n",
       "13. 96\n",
       "14. 100\n",
       "15. 104\n",
       "16. 108\n",
       "17. 112\n",
       "18. 116\n",
       "19. 120\n",
       "20. 124\n",
       "21. 128\n",
       "22. 132\n",
       "23. 136\n",
       "24. 140\n",
       "25. 144\n",
       "26. 148\n",
       "27. 152\n",
       "28. 156\n",
       "29. 160\n",
       "30. 164\n",
       "\n",
       "\n"
      ],
      "text/plain": [
       " [1]  48  52  56  60  64  68  72  76  80  84  88  92  96 100 104 108 112 116 120\n",
       "[20] 124 128 132 136 140 144 148 152 156 160 164"
      ]
     },
     "metadata": {},
     "output_type": "display_data"
    }
   ],
   "source": [
    "y4 <- apply(y, 1, sum)\n",
    "y4"
   ]
  },
  {
   "cell_type": "code",
   "execution_count": 45,
   "metadata": {},
   "outputs": [
    {
     "data": {
      "text/html": [
       "<table>\n",
       "<thead><tr><th scope=col></th><th scope=col></th><th scope=col></th><th scope=col>y4</th></tr></thead>\n",
       "<tbody>\n",
       "\t<tr><td>16 </td><td>25 </td><td> 7 </td><td> 48</td></tr>\n",
       "\t<tr><td>17 </td><td>26 </td><td> 9 </td><td> 52</td></tr>\n",
       "\t<tr><td>18 </td><td>27 </td><td>11 </td><td> 56</td></tr>\n",
       "\t<tr><td>19 </td><td>28 </td><td>13 </td><td> 60</td></tr>\n",
       "\t<tr><td>20 </td><td>29 </td><td>15 </td><td> 64</td></tr>\n",
       "\t<tr><td>21 </td><td>30 </td><td>17 </td><td> 68</td></tr>\n",
       "\t<tr><td>22 </td><td>31 </td><td>19 </td><td> 72</td></tr>\n",
       "\t<tr><td>23 </td><td>32 </td><td>21 </td><td> 76</td></tr>\n",
       "\t<tr><td>24 </td><td>33 </td><td>23 </td><td> 80</td></tr>\n",
       "\t<tr><td>25 </td><td>34 </td><td>25 </td><td> 84</td></tr>\n",
       "\t<tr><td>26 </td><td>35 </td><td>27 </td><td> 88</td></tr>\n",
       "\t<tr><td>27 </td><td>36 </td><td>29 </td><td> 92</td></tr>\n",
       "\t<tr><td>28 </td><td>37 </td><td>31 </td><td> 96</td></tr>\n",
       "\t<tr><td>29 </td><td>38 </td><td>33 </td><td>100</td></tr>\n",
       "\t<tr><td>30 </td><td>39 </td><td>35 </td><td>104</td></tr>\n",
       "\t<tr><td>31 </td><td>40 </td><td>37 </td><td>108</td></tr>\n",
       "\t<tr><td>32 </td><td>41 </td><td>39 </td><td>112</td></tr>\n",
       "\t<tr><td>33 </td><td>42 </td><td>41 </td><td>116</td></tr>\n",
       "\t<tr><td>34 </td><td>43 </td><td>43 </td><td>120</td></tr>\n",
       "\t<tr><td>35 </td><td>44 </td><td>45 </td><td>124</td></tr>\n",
       "\t<tr><td>36 </td><td>45 </td><td>47 </td><td>128</td></tr>\n",
       "\t<tr><td>37 </td><td>46 </td><td>49 </td><td>132</td></tr>\n",
       "\t<tr><td>38 </td><td>47 </td><td>51 </td><td>136</td></tr>\n",
       "\t<tr><td>39 </td><td>48 </td><td>53 </td><td>140</td></tr>\n",
       "\t<tr><td>40 </td><td>49 </td><td>55 </td><td>144</td></tr>\n",
       "\t<tr><td>41 </td><td>50 </td><td>57 </td><td>148</td></tr>\n",
       "\t<tr><td>42 </td><td>51 </td><td>59 </td><td>152</td></tr>\n",
       "\t<tr><td>43 </td><td>52 </td><td>61 </td><td>156</td></tr>\n",
       "\t<tr><td>44 </td><td>53 </td><td>63 </td><td>160</td></tr>\n",
       "\t<tr><td>45 </td><td>54 </td><td>65 </td><td>164</td></tr>\n",
       "</tbody>\n",
       "</table>\n"
      ],
      "text/latex": [
       "\\begin{tabular}{llll}\n",
       "  &  &  & y4\\\\\n",
       "\\hline\n",
       "\t 16  & 25  &  7  &  48\\\\\n",
       "\t 17  & 26  &  9  &  52\\\\\n",
       "\t 18  & 27  & 11  &  56\\\\\n",
       "\t 19  & 28  & 13  &  60\\\\\n",
       "\t 20  & 29  & 15  &  64\\\\\n",
       "\t 21  & 30  & 17  &  68\\\\\n",
       "\t 22  & 31  & 19  &  72\\\\\n",
       "\t 23  & 32  & 21  &  76\\\\\n",
       "\t 24  & 33  & 23  &  80\\\\\n",
       "\t 25  & 34  & 25  &  84\\\\\n",
       "\t 26  & 35  & 27  &  88\\\\\n",
       "\t 27  & 36  & 29  &  92\\\\\n",
       "\t 28  & 37  & 31  &  96\\\\\n",
       "\t 29  & 38  & 33  & 100\\\\\n",
       "\t 30  & 39  & 35  & 104\\\\\n",
       "\t 31  & 40  & 37  & 108\\\\\n",
       "\t 32  & 41  & 39  & 112\\\\\n",
       "\t 33  & 42  & 41  & 116\\\\\n",
       "\t 34  & 43  & 43  & 120\\\\\n",
       "\t 35  & 44  & 45  & 124\\\\\n",
       "\t 36  & 45  & 47  & 128\\\\\n",
       "\t 37  & 46  & 49  & 132\\\\\n",
       "\t 38  & 47  & 51  & 136\\\\\n",
       "\t 39  & 48  & 53  & 140\\\\\n",
       "\t 40  & 49  & 55  & 144\\\\\n",
       "\t 41  & 50  & 57  & 148\\\\\n",
       "\t 42  & 51  & 59  & 152\\\\\n",
       "\t 43  & 52  & 61  & 156\\\\\n",
       "\t 44  & 53  & 63  & 160\\\\\n",
       "\t 45  & 54  & 65  & 164\\\\\n",
       "\\end{tabular}\n"
      ],
      "text/markdown": [
       "\n",
       " |  |  | y4 | \n",
       "|---|---|---|---|---|---|---|---|---|---|---|---|---|---|---|---|---|---|---|---|---|---|---|---|---|---|---|---|---|---|\n",
       "| 16  | 25  |  7  |  48 | \n",
       "| 17  | 26  |  9  |  52 | \n",
       "| 18  | 27  | 11  |  56 | \n",
       "| 19  | 28  | 13  |  60 | \n",
       "| 20  | 29  | 15  |  64 | \n",
       "| 21  | 30  | 17  |  68 | \n",
       "| 22  | 31  | 19  |  72 | \n",
       "| 23  | 32  | 21  |  76 | \n",
       "| 24  | 33  | 23  |  80 | \n",
       "| 25  | 34  | 25  |  84 | \n",
       "| 26  | 35  | 27  |  88 | \n",
       "| 27  | 36  | 29  |  92 | \n",
       "| 28  | 37  | 31  |  96 | \n",
       "| 29  | 38  | 33  | 100 | \n",
       "| 30  | 39  | 35  | 104 | \n",
       "| 31  | 40  | 37  | 108 | \n",
       "| 32  | 41  | 39  | 112 | \n",
       "| 33  | 42  | 41  | 116 | \n",
       "| 34  | 43  | 43  | 120 | \n",
       "| 35  | 44  | 45  | 124 | \n",
       "| 36  | 45  | 47  | 128 | \n",
       "| 37  | 46  | 49  | 132 | \n",
       "| 38  | 47  | 51  | 136 | \n",
       "| 39  | 48  | 53  | 140 | \n",
       "| 40  | 49  | 55  | 144 | \n",
       "| 41  | 50  | 57  | 148 | \n",
       "| 42  | 51  | 59  | 152 | \n",
       "| 43  | 52  | 61  | 156 | \n",
       "| 44  | 53  | 63  | 160 | \n",
       "| 45  | 54  | 65  | 164 | \n",
       "\n",
       "\n"
      ],
      "text/plain": [
       "               y4 \n",
       " [1,] 16 25  7  48\n",
       " [2,] 17 26  9  52\n",
       " [3,] 18 27 11  56\n",
       " [4,] 19 28 13  60\n",
       " [5,] 20 29 15  64\n",
       " [6,] 21 30 17  68\n",
       " [7,] 22 31 19  72\n",
       " [8,] 23 32 21  76\n",
       " [9,] 24 33 23  80\n",
       "[10,] 25 34 25  84\n",
       "[11,] 26 35 27  88\n",
       "[12,] 27 36 29  92\n",
       "[13,] 28 37 31  96\n",
       "[14,] 29 38 33 100\n",
       "[15,] 30 39 35 104\n",
       "[16,] 31 40 37 108\n",
       "[17,] 32 41 39 112\n",
       "[18,] 33 42 41 116\n",
       "[19,] 34 43 43 120\n",
       "[20,] 35 44 45 124\n",
       "[21,] 36 45 47 128\n",
       "[22,] 37 46 49 132\n",
       "[23,] 38 47 51 136\n",
       "[24,] 39 48 53 140\n",
       "[25,] 40 49 55 144\n",
       "[26,] 41 50 57 148\n",
       "[27,] 42 51 59 152\n",
       "[28,] 43 52 61 156\n",
       "[29,] 44 53 63 160\n",
       "[30,] 45 54 65 164"
      ]
     },
     "metadata": {},
     "output_type": "display_data"
    }
   ],
   "source": [
    "cbind(y, y4)"
   ]
  },
  {
   "cell_type": "code",
   "execution_count": null,
   "metadata": {},
   "outputs": [],
   "source": []
  }
 ],
 "metadata": {
  "kernelspec": {
   "display_name": "R",
   "language": "R",
   "name": "ir"
  },
  "language_info": {
   "codemirror_mode": "r",
   "file_extension": ".r",
   "mimetype": "text/x-r-source",
   "name": "R",
   "pygments_lexer": "r",
   "version": "3.5.1"
  }
 },
 "nbformat": 4,
 "nbformat_minor": 2
}
