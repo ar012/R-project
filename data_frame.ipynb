{
 "cells": [
  {
   "cell_type": "code",
   "execution_count": null,
   "metadata": {},
   "outputs": [],
   "source": [
    "# Make a data frame using the following information. \n",
    "\n"
   ]
  },
  {
   "cell_type": "code",
   "execution_count": 2,
   "metadata": {},
   "outputs": [],
   "source": [
    "Name <- c(\"A\", \"B\", \"C\", \"D\", \"E\", \"F\")\n",
    "Bangla <- c(45, 56, 58, 69, 89, 69)\n",
    "English <- c(85, 47, 96, 23, 58, 46)\n",
    "Math <- c(89, 78, 96, 48, 85, 69)\n",
    "Science <- c(60, 45, 96, 36, 78, 96)\n"
   ]
  },
  {
   "cell_type": "code",
   "execution_count": 3,
   "metadata": {},
   "outputs": [
    {
     "data": {
      "text/html": [
       "<table>\n",
       "<thead><tr><th scope=col>Name</th><th scope=col>Bangla</th><th scope=col>English</th><th scope=col>Math</th><th scope=col>Science</th></tr></thead>\n",
       "<tbody>\n",
       "\t<tr><td>A </td><td>45</td><td>85</td><td>89</td><td>60</td></tr>\n",
       "\t<tr><td>B </td><td>56</td><td>47</td><td>78</td><td>45</td></tr>\n",
       "\t<tr><td>C </td><td>58</td><td>96</td><td>96</td><td>96</td></tr>\n",
       "\t<tr><td>D </td><td>69</td><td>23</td><td>48</td><td>36</td></tr>\n",
       "\t<tr><td>E </td><td>89</td><td>58</td><td>85</td><td>78</td></tr>\n",
       "\t<tr><td>F </td><td>69</td><td>46</td><td>69</td><td>96</td></tr>\n",
       "</tbody>\n",
       "</table>\n"
      ],
      "text/latex": [
       "\\begin{tabular}{r|lllll}\n",
       " Name & Bangla & English & Math & Science\\\\\n",
       "\\hline\n",
       "\t A  & 45 & 85 & 89 & 60\\\\\n",
       "\t B  & 56 & 47 & 78 & 45\\\\\n",
       "\t C  & 58 & 96 & 96 & 96\\\\\n",
       "\t D  & 69 & 23 & 48 & 36\\\\\n",
       "\t E  & 89 & 58 & 85 & 78\\\\\n",
       "\t F  & 69 & 46 & 69 & 96\\\\\n",
       "\\end{tabular}\n"
      ],
      "text/markdown": [
       "\n",
       "Name | Bangla | English | Math | Science | \n",
       "|---|---|---|---|---|---|\n",
       "| A  | 45 | 85 | 89 | 60 | \n",
       "| B  | 56 | 47 | 78 | 45 | \n",
       "| C  | 58 | 96 | 96 | 96 | \n",
       "| D  | 69 | 23 | 48 | 36 | \n",
       "| E  | 89 | 58 | 85 | 78 | \n",
       "| F  | 69 | 46 | 69 | 96 | \n",
       "\n",
       "\n"
      ],
      "text/plain": [
       "  Name Bangla English Math Science\n",
       "1 A    45     85      89   60     \n",
       "2 B    56     47      78   45     \n",
       "3 C    58     96      96   96     \n",
       "4 D    69     23      48   36     \n",
       "5 E    89     58      85   78     \n",
       "6 F    69     46      69   96     "
      ]
     },
     "metadata": {},
     "output_type": "display_data"
    }
   ],
   "source": [
    "Result <- data.frame(Name, Bangla, English, Math, Science)\n",
    "Result"
   ]
  },
  {
   "cell_type": "code",
   "execution_count": 4,
   "metadata": {},
   "outputs": [],
   "source": [
    "fix(Result)"
   ]
  },
  {
   "cell_type": "code",
   "execution_count": 5,
   "metadata": {},
   "outputs": [
    {
     "data": {
      "text/plain": [
       " Name      Bangla         English           Math          Science     \n",
       " A:1   Min.   :45.00   Min.   :23.00   Min.   :48.00   Min.   :36.00  \n",
       " B:1   1st Qu.:56.50   1st Qu.:46.25   1st Qu.:71.25   1st Qu.:48.75  \n",
       " C:1   Median :63.50   Median :52.50   Median :81.50   Median :69.00  \n",
       " D:1   Mean   :64.33   Mean   :59.17   Mean   :77.50   Mean   :68.50  \n",
       " E:1   3rd Qu.:69.00   3rd Qu.:78.25   3rd Qu.:88.00   3rd Qu.:91.50  \n",
       " F:1   Max.   :89.00   Max.   :96.00   Max.   :96.00   Max.   :96.00  "
      ]
     },
     "metadata": {},
     "output_type": "display_data"
    }
   ],
   "source": [
    "summary(Result)"
   ]
  },
  {
   "cell_type": "code",
   "execution_count": 6,
   "metadata": {},
   "outputs": [
    {
     "data": {
      "text/html": [
       "<table>\n",
       "<thead><tr><th scope=col>Name</th><th scope=col>Bangla</th><th scope=col>English</th><th scope=col>Math</th><th scope=col>Science</th></tr></thead>\n",
       "<tbody>\n",
       "\t<tr><td>A </td><td>45</td><td>85</td><td>89</td><td>60</td></tr>\n",
       "</tbody>\n",
       "</table>\n"
      ],
      "text/latex": [
       "\\begin{tabular}{r|lllll}\n",
       " Name & Bangla & English & Math & Science\\\\\n",
       "\\hline\n",
       "\t A  & 45 & 85 & 89 & 60\\\\\n",
       "\\end{tabular}\n"
      ],
      "text/markdown": [
       "\n",
       "Name | Bangla | English | Math | Science | \n",
       "|---|\n",
       "| A  | 45 | 85 | 89 | 60 | \n",
       "\n",
       "\n"
      ],
      "text/plain": [
       "  Name Bangla English Math Science\n",
       "1 A    45     85      89   60     "
      ]
     },
     "metadata": {},
     "output_type": "display_data"
    },
    {
     "data": {
      "text/html": [
       "96"
      ],
      "text/latex": [
       "96"
      ],
      "text/markdown": [
       "96"
      ],
      "text/plain": [
       "[1] 96"
      ]
     },
     "metadata": {},
     "output_type": "display_data"
    }
   ],
   "source": [
    "Result[1,]\n",
    "\n",
    "Result[3,4]"
   ]
  },
  {
   "cell_type": "code",
   "execution_count": 7,
   "metadata": {},
   "outputs": [
    {
     "data": {
      "text/html": [
       "<ol class=list-inline>\n",
       "\t<li>89</li>\n",
       "\t<li>78</li>\n",
       "\t<li>96</li>\n",
       "\t<li>48</li>\n",
       "\t<li>85</li>\n",
       "\t<li>69</li>\n",
       "</ol>\n"
      ],
      "text/latex": [
       "\\begin{enumerate*}\n",
       "\\item 89\n",
       "\\item 78\n",
       "\\item 96\n",
       "\\item 48\n",
       "\\item 85\n",
       "\\item 69\n",
       "\\end{enumerate*}\n"
      ],
      "text/markdown": [
       "1. 89\n",
       "2. 78\n",
       "3. 96\n",
       "4. 48\n",
       "5. 85\n",
       "6. 69\n",
       "\n",
       "\n"
      ],
      "text/plain": [
       "[1] 89 78 96 48 85 69"
      ]
     },
     "metadata": {},
     "output_type": "display_data"
    },
    {
     "data": {
      "text/html": [
       "77.5"
      ],
      "text/latex": [
       "77.5"
      ],
      "text/markdown": [
       "77.5"
      ],
      "text/plain": [
       "[1] 77.5"
      ]
     },
     "metadata": {},
     "output_type": "display_data"
    },
    {
     "data": {
      "text/html": [
       "48"
      ],
      "text/latex": [
       "48"
      ],
      "text/markdown": [
       "48"
      ],
      "text/plain": [
       "[1] 48"
      ]
     },
     "metadata": {},
     "output_type": "display_data"
    },
    {
     "data": {
      "text/plain": [
       "   Min. 1st Qu.  Median    Mean 3rd Qu.    Max. \n",
       "  48.00   71.25   81.50   77.50   88.00   96.00 "
      ]
     },
     "metadata": {},
     "output_type": "display_data"
    }
   ],
   "source": [
    "Result$Math\n",
    "\n",
    "mean(Result$Math)\n",
    "\n",
    "min(Result$Math)\n",
    "\n",
    "summary(Result$Math)\n"
   ]
  },
  {
   "cell_type": "code",
   "execution_count": null,
   "metadata": {},
   "outputs": [],
   "source": []
  }
 ],
 "metadata": {
  "kernelspec": {
   "display_name": "R",
   "language": "R",
   "name": "ir"
  },
  "language_info": {
   "codemirror_mode": "r",
   "file_extension": ".r",
   "mimetype": "text/x-r-source",
   "name": "R",
   "pygments_lexer": "r",
   "version": "3.5.1"
  }
 },
 "nbformat": 4,
 "nbformat_minor": 2
}
